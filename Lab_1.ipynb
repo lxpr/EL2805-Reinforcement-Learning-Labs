{
 "cells": [
  {
   "cell_type": "markdown",
   "metadata": {},
   "source": [
    "## El 2805 Lab 1\n",
    "By: David Rommedahl, Ning Wang\n",
    "\n",
    "## Problem 1a:\n",
    "\n",
    "To model the problem as an MDP we can consider the maze.py code that was used for Lab 0, modifying it to accomodate for the case of the added minotaur.\n",
    "After modifying the actual maze so that it fits the new description we have to define the state space, action space, transition probabilities and the rewards.\n",
    "\n",
    "\n",
    "#### State Space\n",
    "We consider the state space:\n",
    "\n",
    "\\begin{equation}\n",
    "    \\mathcal{S} = \\left\\{(i,j,m,n): \\textrm{such that maze}[i,j]\\neq 1 \\textrm{ and the cell }(m,n) \\textrm{ is any cell within the maze}\\right\\}.\n",
    "\\end{equation}\n",
    "\n",
    "This way the indexes $(i,j)$ represent the player's position within the maze and $(m,n)$ represent the minotaur's position, and any combination of these positions within the maze that do not put the player inside of a wall are valid states. The size of the state space is greatly increased from the model of Lab 0, but the model is conceptually simple.\n",
    "\n",
    "#### Action Space\n",
    "The action space is the same as for Lab 0:\n",
    "\n",
    "$$\\mathcal{A} = \\lbrace \\textrm{up}, \\textrm{ down}, \\textrm{ left}, \\textrm{ right}, \\textrm{ stay} \\rbrace.$$\n",
    "\n",
    "#### Transition Probabilities\n",
    "The transition probabilities is the part of this lab where the greatest modification had to be made to the model from Lab 0. The movements of the player are deterministic (if the player chooses to move left the player will move left with probability 1 as long as moving left is a legal move. If it is not a legal move the player will remain in the same position), but the minotaur performs a random walk with the only limitation being that it is not allowed to stay in the same place (it is not allowed to perform a $\\textit{Snake}$-esque move of moving out of the maze on one side and reappearing on the other side of the maze either). As each state is defined as the position of the player $\\textit{and}$ the position of the minotaur, the state transition probabilities will be random with a probability given by the possible next positions for the minotaur.\n",
    "\n",
    "For example, if the player makes a legal move to the right and the minotaur is in a position where it is allowed to move in all four directions there are four possible next states for the action $\\textit{move right}$, each with a transition probability of $\\frac{1}{4}$.\n",
    "\n",
    "   - If at state $s$ action $a$ does not lead to a wall the transition probability is $\\mathbb{P}(s'\\mid s, a)=\\frac{1}{s_p}$, where $s_p$ is the number of possible next positions for the minotaur.\n",
    "   - If at state $s$ action $a$ $\\textit{does}$ lead to a wall the transition probability is $\\mathbb{P}(s\\mid s, a)=1$. This means that both the player and minotaur will stay in the same position. The fact that the minotaur does not move in this case does not matter for the implementation.\n",
    "   - If the player has reached the end state or is eaten by the minotaur ($(i,j)=(m,n)$) the transition probability is $\\mathbb{P}(s \\mid s, a) = 1$.\n",
    "\n",
    "#### Rewards\n",
    "\n",
    "The objective is to find the exit of the maze while avoiding obstacles and not being eaten by the minotaur:\n",
    "\n",
    "   - If the player walks into an obstacle or is eaten by the minotaur the player receives a reward of $r(s,a)=-100$\n",
    "   - If the player reaches the end state they receive a reward of $r(s,a)=0$\n",
    "   - If the player makes a legal move they receive a reward of $r(s,a)=-1$\n",
    "\n",
    "Since the transition probabilities are random in this implementation the rewards are received after an action is taken, which is consistent with the course litterature.\n",
    "\n",
    "#### Problem 1b:\n",
    "\n",
    "In problem 1b we are expected to compute a policy which maximizes the probability of exiting the maze using dynamic programming and to illustrate this policy. We have decided to do this by using the methods for simulating and plotting a scenario already implemented for Lab 0, with modifications made to suite our code. "
   ]
  },
  {
   "cell_type": "code",
   "execution_count": 1,
   "metadata": {},
   "outputs": [],
   "source": [
    "import maze as mz\n",
    "import numpy as np\n",
    "from IPython import display\n",
    "\n",
    "# Modified maze from lab0. Now corresponding to maze in lab1\n",
    "\n",
    "maze = np.array([\n",
    "    [0, 0, 1, 0, 0, 0, 0, 0],\n",
    "    [0, 0, 1, 0, 0, 1, 0, 0],\n",
    "    [0, 0, 1, 0, 0, 1, 1, 1],\n",
    "    [0, 0, 1, 0, 0, 1, 0, 0],\n",
    "    [0, 0, 0, 0, 0, 0, 0, 0],\n",
    "    [0, 1, 1, 1, 1, 1, 1, 0],\n",
    "    [0, 0, 0, 0, 1, 2, 0, 0]\n",
    "])\n",
    "env = mz.Maze(maze)"
   ]
  },
  {
   "cell_type": "code",
   "execution_count": 2,
   "metadata": {},
   "outputs": [],
   "source": [
    "#### Dynamic Programming\n",
    "\n",
    "# Finite horizon\n",
    "horizon = 20\n",
    "method = \"DynProg\"\n",
    "\n",
    "# Solve the MDP problem with dynamic programming\n",
    "V, policy = mz.dynamic_programming(env, horizon)"
   ]
  },
  {
   "cell_type": "code",
   "execution_count": 3,
   "metadata": {},
   "outputs": [
    {
     "data": {
      "image/png": "[encoded data removed]",
      "text/plain": [
       "<Figure size 576x504 with 1 Axes>"
      ]
     },
     "metadata": {},
     "output_type": "display_data"
    }
   ],
   "source": [
    "\n",
    "\n",
    "# Simulate the shortest path starting from position A\n",
    "start = (0, 0, 6, 5)\n",
    "path = env.simulate(start, policy, method)\n",
    "\n",
    "# Show the shortest path\n",
    "mz.animate_solution(maze, path)\n"
   ]
  },
  {
   "cell_type": "markdown",
   "metadata": {},
   "source": [
    "#### Problem 1c:\n",
    "\n",
    "The next problem is to vary the time horizon, $T = 1,\\dots,30$. For each $T$, a policy which maximizes the probability of exiting the maze should be found, and the probability should be plotted. Finally, the case when the minotaur is allowed to stand still should also be considered."
   ]
  },
  {
   "cell_type": "code",
   "execution_count": 4,
   "metadata": {},
   "outputs": [
    {
     "name": "stdout",
     "output_type": "stream",
     "text": [
      "[[-2.10000000e+03 -2.00000000e+03 -1.90000000e+03 ... -3.00000000e+02\n",
      "  -2.00000000e+02 -1.00000000e+02]\n",
      " [-1.50000000e+01 -1.50000000e+01 -1.50000000e+01 ... -3.00000000e+00\n",
      "  -2.00000000e+00 -1.00000000e+00]\n",
      " [-1.51307332e+01 -1.51307332e+01 -1.51307332e+01 ... -3.00000000e+00\n",
      "  -2.00000000e+00 -1.00000000e+00]\n",
      " ...\n",
      " [-3.00000000e+00 -3.00000000e+00 -3.00000000e+00 ... -3.00000000e+00\n",
      "  -2.00000000e+00 -1.00000000e+00]\n",
      " [-2.00000000e+00 -2.00000000e+00 -2.00000000e+00 ... -2.00000000e+00\n",
      "  -2.00000000e+00 -1.00000000e+00]\n",
      " [-2.10000000e+03 -2.00000000e+03 -1.90000000e+03 ... -3.00000000e+02\n",
      "  -2.00000000e+02 -1.00000000e+02]]\n"
     ]
    }
   ],
   "source": [
    "print(V)"
   ]
  },
  {
   "cell_type": "code",
   "execution_count": null,
   "metadata": {},
   "outputs": [],
   "source": [
    "exit_probability = np.empty(30)\n",
    "\n",
    "for horizon in range(1, 31):\n",
    "    V, policy = dynamic_programming(env, horizon)\n",
    "    \n",
    "    "
   ]
  }
 ],
 "metadata": {
  "kernelspec": {
   "display_name": "Python 3",
   "language": "python",
   "name": "python3"
  },
  "language_info": {
   "codemirror_mode": {
    "name": "ipython",
    "version": 3
   },
   "file_extension": ".py",
   "mimetype": "text/x-python",
   "name": "python",
   "nbconvert_exporter": "python",
   "pygments_lexer": "ipython3",
   "version": "3.8.5"
  }
 },
 "nbformat": 4,
 "nbformat_minor": 4
}
