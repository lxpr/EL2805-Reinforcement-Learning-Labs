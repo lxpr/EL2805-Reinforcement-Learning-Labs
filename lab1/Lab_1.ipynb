{
 "cells": [
  {
   "cell_type": "markdown",
   "metadata": {},
   "source": [
    "## El 2805 Lab 1\n",
    "By: David Rommedahl, Ning Wang\n",
    "\n",
    "## Problem 1a:\n",
    "\n",
    "To model the problem as an MDP we can consider the maze.py code that was used for Lab 0, modifying it to accomodate for the case of the added minotaur.\n",
    "After modifying the actual maze so that it fits the new description we have to define the state space, action space, transition probabilities and the rewards.\n",
    "\n",
    "\n",
    "#### State Space\n",
    "We consider the state space:\n",
    "\n",
    "\\begin{equation}\n",
    "    \\mathcal{S} = \\left\\{(i,j,m,n): \\textrm{such that maze}[i,j]\\neq 1 \\textrm{ and the cell }(m,n) \\textrm{ is any cell within the maze}\\right\\}.\n",
    "\\end{equation}\n",
    "\n",
    "This way the indexes $(i,j)$ represent the player's position within the maze and $(m,n)$ represent the minotaur's position, and any combination of these positions within the maze that do not put the player inside of a wall are valid states. The size of the state space is greatly increased from the model of Lab 0, but the model is conceptually simple.\n",
    "\n",
    "#### Action Space\n",
    "The action space is the same as for Lab 0:\n",
    "\n",
    "$$\\mathcal{A} = \\lbrace \\textrm{up}, \\textrm{ down}, \\textrm{ left}, \\textrm{ right}, \\textrm{ stay} \\rbrace.$$\n",
    "\n",
    "#### Transition Probabilities\n",
    "The transition probabilities is the part of this lab where the greatest modification had to be made to the model from Lab 0. The movements of the player are deterministic (if the player chooses to move left the player will move left with probability 1 as long as moving left is a legal move. If it is not a legal move the player will remain in the same position), but the minotaur performs a random walk with the only limitation being that it is not allowed to stay in the same place (it is not allowed to perform a $\\textit{Snake}$-esque move of moving out of the maze on one side and reappearing on the other side of the maze either). As each state is defined as the position of the player $\\textit{and}$ the position of the minotaur, the state transition probabilities will be random with a probability given by the possible next positions for the minotaur.\n",
    "\n",
    "For example, if the player makes a legal move to the right and the minotaur is in a position where it is allowed to move in all four directions there are four possible next states for the action $\\textit{move right}$, each with a transition probability of $\\frac{1}{4}$.\n",
    "\n",
    "   - If at state $s$ action $a$ does not lead to a wall the transition probability is $\\mathbb{P}(s'\\mid s, a)=\\frac{1}{s_p}$, where $s_p$ is the number of possible next positions for the minotaur.\n",
    "   - If at state $s$ action $a$ $\\textit{does}$ lead to a wall the transition probability is $\\mathbb{P}(s\\mid s, a)=1$. This means that both the player and minotaur will stay in the same position. The fact that the minotaur does not move in this case does not matter for the implementation.\n",
    "   - If the player has reached the end state or is eaten by the minotaur ($(i,j)=(m,n)$) the transition probability is $\\mathbb{P}(s \\mid s, a) = 1$.\n",
    "\n",
    "#### Rewards\n",
    "\n",
    "The objective is to find the exit of the maze while avoiding obstacles and not being eaten by the minotaur:\n",
    "\n",
    "   - If the player walks into an obstacle or is eaten by the minotaur the player receives a reward of $r(s,a)=-100$\n",
    "   - If the player reaches the end state they receive a reward of $r(s,a)=0$\n",
    "   - If the player makes a legal move they receive a reward of $r(s,a)=-1$\n",
    "\n",
    "Since the transition probabilities are random in this implementation the rewards are received after an action is taken, which is consistent with the course litterature.\n",
    "\n",
    "## Problem 1b:\n",
    "\n",
    "In problem 1b we are expected to compute a policy which maximizes the probability of exiting the maze using dynamic programming and to illustrate this policy. We have decided to do this by using the methods for simulating and plotting a scenario already implemented for Lab 0, with modifications made to suite our code. "
   ]
  },
  {
   "cell_type": "code",
   "execution_count": 1,
   "metadata": {},
   "outputs": [],
   "source": [
    "import maze as mz\n",
    "import numpy as np\n",
    "from IPython import display\n",
    "from matplotlib import pyplot as plt\n",
    "\n",
    "# Modified maze from lab0. Now corresponding to maze in lab1\n",
    "\n",
    "maze = np.array([\n",
    "    [0, 0, 1, 0, 0, 0, 0, 0],\n",
    "    [0, 0, 1, 0, 0, 1, 0, 0],\n",
    "    [0, 0, 1, 0, 0, 1, 1, 1],\n",
    "    [0, 0, 1, 0, 0, 1, 0, 0],\n",
    "    [0, 0, 0, 0, 0, 0, 0, 0],\n",
    "    [0, 1, 1, 1, 1, 1, 1, 0],\n",
    "    [0, 0, 0, 0, 1, 2, 0, 0]\n",
    "])\n",
    "env_1 = mz.Maze(maze)"
   ]
  },
  {
   "cell_type": "code",
   "execution_count": 6,
   "metadata": {},
   "outputs": [],
   "source": [
    "#### Dynamic Programming\n",
    "\n",
    "# Finite horizon\n",
    "horizon = 20\n",
    "method = \"DynProg\"\n",
    "\n",
    "# Solve the MDP problem with dynamic programming\n",
    "V, policy_1 = mz.dynamic_programming(env_1, horizon)"
   ]
  },
  {
   "cell_type": "code",
   "execution_count": 7,
   "metadata": {},
   "outputs": [
    {
     "data": {
      "image/png": "[encoded data removed]",
      "text/plain": [
       "<Figure size 576x504 with 1 Axes>"
      ]
     },
     "metadata": {},
     "output_type": "display_data"
    }
   ],
   "source": [
    "\n",
    "\n",
    "# Simulate the shortest path starting from position A\n",
    "start = (0, 0, 6, 5)\n",
    "path_1 = env_1.simulate(start, policy_1, method)\n",
    "\n",
    "# Show the shortest path\n",
    "mz.animate_solution(maze, path_1)"
   ]
  },
  {
   "cell_type": "markdown",
   "metadata": {},
   "source": [
    "## Problem 1c:\n",
    "\n",
    "The next problem is to vary the time horizon, $T = 1,\\dots,30$. For each $T$, a policy which maximizes the probability of exiting the maze should be found, and the probability should be plotted. Finally, the case when the minotaur is allowed to stand still should also be considered."
   ]
  },
  {
   "cell_type": "markdown",
   "metadata": {},
   "source": [
    "#### Minotaur cannot stand still"
   ]
  },
  {
   "cell_type": "code",
   "execution_count": 4,
   "metadata": {},
   "outputs": [],
   "source": [
    "exit_probability_must_move = np.empty(30)\n",
    "\n",
    "for horizon in range(1, 31):\n",
    "    V, policy = mz.dynamic_programming(env_1, horizon)\n",
    "    exit_probability_must_move[horizon-1] = mz.policy_evaluation(env_1, policy, horizon)"
   ]
  },
  {
   "cell_type": "code",
   "execution_count": 5,
   "metadata": {},
   "outputs": [
    {
     "data": {
      "image/png": "[encoded data removed]",
      "text/plain": [
       "<Figure size 432x288 with 1 Axes>"
      ]
     },
     "metadata": {
      "needs_background": "light"
     },
     "output_type": "display_data"
    }
   ],
   "source": [
    "plt.plot(np.arange(1,31),exit_probability_must_move, label=\"Exit Probability\")\n",
    "plt.plot(np.ones(31), linestyle=\"--\", color=\"k\", label=\"$P=1$\")\n",
    "plt.legend()\n",
    "plt.title(\"Exit Probability When the Minotaur Must Move\")\n",
    "plt.ylabel(\"P\")\n",
    "plt.xlabel(\"Horizon\")\n",
    "plt.xlim([0, 30])\n",
    "plt.xticks([1, 4, 9, 14, 19, 24, 29], labels=[1,5,10,15,20,25,30])\n",
    "plt.show()"
   ]
  },
  {
   "cell_type": "markdown",
   "metadata": {},
   "source": [
    "#### Analysis\n",
    "Clearly the player has found an optimal policy which garantees them to leave the maze in 15 timesteps.\n",
    "\n",
    "#### The Minotaur is Allowed to Stand Still"
   ]
  },
  {
   "cell_type": "code",
   "execution_count": 6,
   "metadata": {},
   "outputs": [],
   "source": [
    "env_2 = mz.Maze(maze, stand_still=True)\n",
    "exit_probability_stand_still = np.empty(30)\n",
    "\n",
    "for horizon in range(1, 31):\n",
    "    V, policy = mz.dynamic_programming(env_2, horizon)\n",
    "    exit_probability_stand_still[horizon-1] = mz.policy_evaluation(env_2, policy, horizon)"
   ]
  },
  {
   "cell_type": "code",
   "execution_count": 7,
   "metadata": {},
   "outputs": [
    {
     "data": {
      "image/png": "[encoded data removed]",
      "text/plain": [
       "<Figure size 432x288 with 1 Axes>"
      ]
     },
     "metadata": {
      "needs_background": "light"
     },
     "output_type": "display_data"
    }
   ],
   "source": [
    "plt.plot(np.arange(1,31),exit_probability_stand_still, label=\"Exit Probability\")\n",
    "plt.plot(np.ones(31), linestyle=\"--\", color=\"k\", label=\"$P=1$\")\n",
    "plt.legend()\n",
    "plt.title(\"Exit Probability When the Minotaur Can Stand Still\")\n",
    "plt.ylabel(\"P\")\n",
    "plt.xlabel(\"Horizon\")\n",
    "plt.xlim([0, 30])\n",
    "plt.xticks([1, 4, 9, 14, 19, 24, 29], labels=[1,5,10,15,20,25,30])\n",
    "plt.show()"
   ]
  },
  {
   "cell_type": "markdown",
   "metadata": {},
   "source": [
    "#### Analysis\n",
    "If the minotaur is allowed to stand still there are more considerations for the player to make when choosing their route, and they are less likely to exit the maze. We see that the probability grows towards 1 when the time horizon becomes longer, but there is always a risk that the player gets stuck. Below is a simulation of one of these scenarios, when the horizon is 30 and the minotaur is allowed to stand still."
   ]
  },
  {
   "cell_type": "code",
   "execution_count": 8,
   "metadata": {},
   "outputs": [],
   "source": [
    "path_2 = env_2.simulate(start, policy, method)"
   ]
  },
  {
   "cell_type": "code",
   "execution_count": 9,
   "metadata": {},
   "outputs": [
    {
     "data": {
      "image/png": "[encoded data removed]",
      "text/plain": [
       "<Figure size 576x504 with 1 Axes>"
      ]
     },
     "metadata": {},
     "output_type": "display_data"
    }
   ],
   "source": [
    "mz.animate_solution(maze, path_2)"
   ]
  },
  {
   "cell_type": "markdown",
   "metadata": {},
   "source": [
    "## Problem 1d\n",
    "#### Player is poisoned\n",
    "\n",
    "If the player is poisoned and their life is geometrically distributed with mean 30, the probability of the player dying after k timesteps is $(1-p)^{k-1}p$, where $\\frac{1}{p}=30$. This gives us that the probability of dying at each individual timestep is given by $p = \\frac{1}{30}$.\n",
    "\n",
    "The main modification to the problem that is needed is to include a new, absorbing, \"Dead\" state. The transition probability to this new state for any $(s,a)$ pair is $p$ and the reward for ending up in this state is the same as for walking into a wall or being caught by the minotaur, $-100$. \n",
    "\n",
    "The $\\gamma$- parameter must be set high enough that the agent is motivated to find the exit. We have chosen to set it to 29/30. If $\\gamma$ is set too low the player will not know what to do, and will simply stay in place. \n",
    "\n",
    "Below is a simulation for the case when the agent is poisoned, and the minotaur is allowed to stand still.\n",
    "\n"
   ]
  },
  {
   "cell_type": "code",
   "execution_count": 10,
   "metadata": {},
   "outputs": [],
   "source": [
    "env_3 = mz.Maze(maze, stand_still=True, life_mean=30)\n",
    "V,policy_3 = mz.value_iteration(env_3, 1/3, epsilon=0.0001)"
   ]
  },
  {
   "cell_type": "code",
   "execution_count": 11,
   "metadata": {},
   "outputs": [],
   "source": [
    "method = 'ValIter'\n",
    "start = (0,0,6,5)\n",
    "path_3 = env_3.simulate(start, policy_3, method)"
   ]
  },
  {
   "cell_type": "code",
   "execution_count": 12,
   "metadata": {},
   "outputs": [
    {
     "data": {
      "image/png": "[encoded data removed]",
      "text/plain": [
       "<Figure size 576x504 with 1 Axes>"
      ]
     },
     "metadata": {},
     "output_type": "display_data"
    }
   ],
   "source": [
    "mz.animate_solution(maze, path_3)"
   ]
  },
  {
   "cell_type": "markdown",
   "metadata": {},
   "source": [
    "## Problem 1e\n",
    "\n",
    "To calculate the probability of exiting the maze while poisoned, it is easier to consider the case when the minotaur is not allowed to stand still, as we have previously seen that the agent is guaranteed to exit the maze in 15 timesteps for this case (unless they die of poisoning). The probability of this is simply the probability of not dying within 15 timesteps, and this can be calculated using the CDF of the geometric distribution:\n",
    "\n",
    "$$CDF_{geometric}(k) = 1 - (1-p)^k\\;.$$\n",
    "\n",
    "The CDF gives us the probability of dying within the first k timesteps, so to calculate the probability of getting out alive we use\n",
    "\n",
    "$$1 - CDF_{geometric}(15) = (1-p)^{15} \\approx 0.6014\\;.$$\n",
    "\n",
    "If we estimate this probability by simulating $N = 10000$ attempts we get:"
   ]
  },
  {
   "cell_type": "code",
   "execution_count": 13,
   "metadata": {},
   "outputs": [
    {
     "name": "stdout",
     "output_type": "stream",
     "text": [
      "Estimated probability of successful escape:\n",
      "0.6078\n"
     ]
    }
   ],
   "source": [
    "env_4 = mz.Maze(maze, stand_still=False, life_mean=30)\n",
    "V,policy_4 = mz.value_iteration(env_4, 1/3, epsilon=0.0001)\n",
    "\n",
    "nr_escape = 0\n",
    "start = (0,0,6,5)\n",
    "method = 'ValIter'\n",
    "N = 10000\n",
    "for i in range(N):\n",
    "    path_4 = env_4.simulate(start, policy_4, method)\n",
    "    if path_4[-1] != \"Dead\":\n",
    "        if maze[path_4[-1][0:2]] == 2 and path_4[-1][0:2] != path_4[-1][2:]:\n",
    "            nr_escape+=1\n",
    "print(\"Estimated probability of successful escape:\")\n",
    "print(nr_escape/N)"
   ]
  },
  {
   "cell_type": "markdown",
   "metadata": {},
   "source": [
    "We see that this value is close to the theoretically calculated one. \n",
    "\n",
    "If the minotaur is allowed to stand still this calculation becomes more involved, and we will not perform the theoretical calculations. However, we do know that the probability of getting out alive is lower if the minotaur is allowed to stand still. This should be reflected in the estimated probability if we simulate this scenario $N=10000$ times:"
   ]
  },
  {
   "cell_type": "code",
   "execution_count": 10,
   "metadata": {},
   "outputs": [
    {
     "ename": "KeyboardInterrupt",
     "evalue": "",
     "output_type": "error",
     "traceback": [
      "\u001b[1;31m---------------------------------------------------------------------------\u001b[0m",
      "\u001b[1;31mKeyboardInterrupt\u001b[0m                         Traceback (most recent call last)",
      "\u001b[1;32m~\\AppData\\Local\\Temp/ipykernel_9524/3884806012.py\u001b[0m in \u001b[0;36m<module>\u001b[1;34m\u001b[0m\n\u001b[0;32m      1\u001b[0m \u001b[0menv\u001b[0m \u001b[1;33m=\u001b[0m \u001b[0mmz\u001b[0m\u001b[1;33m.\u001b[0m\u001b[0mMaze\u001b[0m\u001b[1;33m(\u001b[0m\u001b[0mmaze\u001b[0m\u001b[1;33m,\u001b[0m \u001b[0mstand_still\u001b[0m\u001b[1;33m=\u001b[0m\u001b[1;32mTrue\u001b[0m\u001b[1;33m,\u001b[0m \u001b[0mlife_mean\u001b[0m\u001b[1;33m=\u001b[0m\u001b[1;36m30\u001b[0m\u001b[1;33m)\u001b[0m\u001b[1;33m\u001b[0m\u001b[1;33m\u001b[0m\u001b[0m\n\u001b[1;32m----> 2\u001b[1;33m \u001b[0mV\u001b[0m\u001b[1;33m,\u001b[0m\u001b[0mpolicy\u001b[0m \u001b[1;33m=\u001b[0m \u001b[0mmz\u001b[0m\u001b[1;33m.\u001b[0m\u001b[0mvalue_iteration\u001b[0m\u001b[1;33m(\u001b[0m\u001b[0menv\u001b[0m\u001b[1;33m,\u001b[0m \u001b[1;33m(\u001b[0m\u001b[0menv\u001b[0m\u001b[1;33m.\u001b[0m\u001b[0mlife_mean\u001b[0m\u001b[1;33m-\u001b[0m\u001b[1;36m1\u001b[0m\u001b[1;33m)\u001b[0m\u001b[1;33m/\u001b[0m\u001b[0menv\u001b[0m\u001b[1;33m.\u001b[0m\u001b[0mlife_mean\u001b[0m\u001b[1;33m,\u001b[0m \u001b[0mepsilon\u001b[0m\u001b[1;33m=\u001b[0m\u001b[1;36m0.0001\u001b[0m\u001b[1;33m)\u001b[0m\u001b[1;33m\u001b[0m\u001b[1;33m\u001b[0m\u001b[0m\n\u001b[0m\u001b[0;32m      3\u001b[0m \u001b[1;33m\u001b[0m\u001b[0m\n\u001b[0;32m      4\u001b[0m \u001b[0mnr_escape\u001b[0m \u001b[1;33m=\u001b[0m \u001b[1;36m0\u001b[0m\u001b[1;33m\u001b[0m\u001b[1;33m\u001b[0m\u001b[0m\n\u001b[0;32m      5\u001b[0m \u001b[0mstart\u001b[0m \u001b[1;33m=\u001b[0m \u001b[1;33m(\u001b[0m\u001b[1;36m0\u001b[0m\u001b[1;33m,\u001b[0m\u001b[1;36m0\u001b[0m\u001b[1;33m,\u001b[0m\u001b[1;36m6\u001b[0m\u001b[1;33m,\u001b[0m\u001b[1;36m5\u001b[0m\u001b[1;33m)\u001b[0m\u001b[1;33m\u001b[0m\u001b[1;33m\u001b[0m\u001b[0m\n",
      "\u001b[1;32mD:\\EL2805\\lab1\\maze.py\u001b[0m in \u001b[0;36mvalue_iteration\u001b[1;34m(env, gamma, epsilon)\u001b[0m\n\u001b[0;32m    534\u001b[0m         \u001b[0mV\u001b[0m \u001b[1;33m=\u001b[0m \u001b[0mnp\u001b[0m\u001b[1;33m.\u001b[0m\u001b[0mcopy\u001b[0m\u001b[1;33m(\u001b[0m\u001b[0mBV\u001b[0m\u001b[1;33m)\u001b[0m\u001b[1;33m\u001b[0m\u001b[1;33m\u001b[0m\u001b[0m\n\u001b[0;32m    535\u001b[0m         \u001b[1;31m# Compute the new BV\u001b[0m\u001b[1;33m\u001b[0m\u001b[1;33m\u001b[0m\u001b[1;33m\u001b[0m\u001b[0m\n\u001b[1;32m--> 536\u001b[1;33m         \u001b[1;32mfor\u001b[0m \u001b[0ms\u001b[0m \u001b[1;32min\u001b[0m \u001b[0mrange\u001b[0m\u001b[1;33m(\u001b[0m\u001b[0mn_states\u001b[0m\u001b[1;33m)\u001b[0m\u001b[1;33m:\u001b[0m\u001b[1;33m\u001b[0m\u001b[1;33m\u001b[0m\u001b[0m\n\u001b[0m\u001b[0;32m    537\u001b[0m             \u001b[1;32mfor\u001b[0m \u001b[0ma\u001b[0m \u001b[1;32min\u001b[0m \u001b[0mrange\u001b[0m\u001b[1;33m(\u001b[0m\u001b[0mn_actions\u001b[0m\u001b[1;33m)\u001b[0m\u001b[1;33m:\u001b[0m\u001b[1;33m\u001b[0m\u001b[1;33m\u001b[0m\u001b[0m\n\u001b[0;32m    538\u001b[0m                 \u001b[0mQ\u001b[0m\u001b[1;33m[\u001b[0m\u001b[0ms\u001b[0m\u001b[1;33m,\u001b[0m \u001b[0ma\u001b[0m\u001b[1;33m]\u001b[0m \u001b[1;33m=\u001b[0m \u001b[0mr\u001b[0m\u001b[1;33m[\u001b[0m\u001b[0ms\u001b[0m\u001b[1;33m,\u001b[0m \u001b[0ma\u001b[0m\u001b[1;33m]\u001b[0m \u001b[1;33m+\u001b[0m \u001b[0mgamma\u001b[0m \u001b[1;33m*\u001b[0m \u001b[0mnp\u001b[0m\u001b[1;33m.\u001b[0m\u001b[0mdot\u001b[0m\u001b[1;33m(\u001b[0m\u001b[0mp\u001b[0m\u001b[1;33m[\u001b[0m\u001b[1;33m:\u001b[0m\u001b[1;33m,\u001b[0m \u001b[0ms\u001b[0m\u001b[1;33m,\u001b[0m \u001b[0ma\u001b[0m\u001b[1;33m]\u001b[0m\u001b[1;33m,\u001b[0m \u001b[0mV\u001b[0m\u001b[1;33m)\u001b[0m\u001b[1;33m\u001b[0m\u001b[1;33m\u001b[0m\u001b[0m\n",
      "\u001b[1;32m<__array_function__ internals>\u001b[0m in \u001b[0;36mdot\u001b[1;34m(*args, **kwargs)\u001b[0m\n",
      "\u001b[1;31mKeyboardInterrupt\u001b[0m: "
     ]
    }
   ],
   "source": [
    "env_5 = mz.Maze(maze, stand_still=True, life_mean=30)\n",
    "V,policy_5 = mz.value_iteration(env_5, 1/3, epsilon=0.0001)\n",
    "\n",
    "nr_escape = 0\n",
    "start = (0,0,6,5)\n",
    "method = 'ValIter'\n",
    "N = 10000\n",
    "for i in range(N):\n",
    "    path_5 = env_5.simulate(start, policy_5, method)\n",
    "    if path_5[-1] != \"Dead\":\n",
    "        if maze[path_5[-1][0:2]] == 2 and path_5[-1][0:2] != path_5[-1][2:]:\n",
    "            nr_escape+=1\n",
    "print(\"Estimated probability of successful escape:\")\n",
    "print(nr_escape/N)"
   ]
  },
  {
   "cell_type": "markdown",
   "metadata": {},
   "source": [
    "## Problem 1f\n",
    "#### Theoretical questions\n",
    "\n",
    "1) What does it mean that a learning method is on or off-policy?\n",
    "\n",
    "  - An off-policy method learns a $Q(s,a)$ function using a behavior policy $\\pi_b$, and then uses a greedy policy with respect to the learned $Q(s,a)$. The resulting policy is as a rule different from the behavior policy used. An off-policy works under the condition that the behavior policy explores all state-action pairs.\n",
    "  - An on-policy algorithm learns the value of a policy which is the same policy used to generate data. At each timestep and state, the algorithm acts according to the best policy it has access to at that time.\n",
    "\n",
    "2) State convergence requirements for Q-learning and SARSA:\n",
    "\n",
    "  - For Q-learning the requirements are that the behavior policy $\\pi_b$ visits every state-action pair $(s,a)$ infinitely often and that the learning rate $\\alpha$ fulfills the following conditions:\n",
    "    $$\\sum_t\\alpha = \\infty$$$$\\sum_t\\alpha^2 < \\infty$$\n",
    "  - Requirements on the learning rate are the same for the SARSA algorithm as for the Q-learning algorithm. If the policy $\\pi_t$ is $\\epsilon$-greedy wrt $Q^{(t)}$, we have the convergence\n",
    "  $$\\lim_{n\\to\\infty}Q^{(t)} = Q^{\\bar{\\pi}}$$\n",
    "    where $Q^{\\bar{\\pi}}$ is the best policy among all of the possible $\\epsilon$-greedy policies."
   ]
  },
  {
   "cell_type": "markdown",
   "metadata": {
    "pycharm": {
     "name": "#%% md\n"
    }
   },
   "source": [
    "## Problem 1g\n",
    "\n",
    "The modifications that are needed to the problem are as follows:\n",
    "  - The player's life is geometrically distributed with mean 50 instead of mean 30\n",
    "  - The minotaur's policy for moving has changed. It now moves randomly or deterministically \"towards\" the player with probability 65% and 35% respectively\n",
    "  - There are keys located in position C, meaning that the player needs to reach this position before they are able to exit the maze\n",
    "\n",
    "#### New mean of life distribution\n",
    "\n",
    "The first modification is trivial, and will not require alterations to the code other than the life_mean parameter given to the environment and the gamma parameter of the value iteration algorithm.\n",
    "\n",
    "#### New minotaur policy\n",
    "\n",
    "The minotaur's new policy will require alterations to the transition probabilities, however. Consider the following scenario:\n",
    "\n",
    "The player has chosen action $a$, and the minotaur is in a location where it is not restricted in which action it is able to make. It has the choice of moving in either direction. Out of these four actions, if the player and the Minotaur are not in the same row or column, two of them will result in decreasing the distance (euclidian or manhattan distance) between the minotaur and the player (otherwise there will only be one). We call these two actions $a_1$ and $a_2$. Given that the minotaur decides to move towards the player, the probability of $a_1$ or $a_2$ is $0.5$ each. Not that all the following probabilities are under the condition that at the next step the player will still be alive. We write:\n",
    "\n",
    "$$\\mathbb{P}(a_1\\mid towards)=\\mathbb{P}(a_2\\mid towards)=0.5$$\n",
    "$$\\mathbb{P}(a_i\\mid towards)=0, \\; \\forall \\; i \\in \\left\\{3,4\\right\\}$$\n",
    "\n",
    "If the minotaur moves at random we have a uniform probability of choosing any action:\n",
    "\n",
    "$$\\mathbb{P}(a_i \\mid random) = \\tfrac{1}{4}, \\; \\forall \\; i \\in \\left\\{1,2,3,4\\right\\}$$\n",
    "\n",
    "Now, to get the total probability of the minotaur choosing any action $a_i$, we marginalize:\n",
    "\n",
    "$$\\mathbb{P}(a_i) = \\mathbb{P}(a_i \\mid towards)\\mathbb{P}(towards) + \\mathbb{P}(a_i \\mid random)\\mathbb{P}(random)\\;.$$\n",
    "\n",
    "For actions $a_1$ and $a_2$ this becomes:\n",
    "\n",
    "$$\\mathbb{P}(a_1) = 0.5 \\cdot 0.35 + 0.25 \\cdot 0.65 = 0.3375 = \\mathbb{P}(a_2) \\;.$$\n",
    "\n",
    "If there is only one action $a_1$ to move towards the player, the probability will be\n",
    "\n",
    "$$\\mathbb{P}(a_1) = 1 \\cdot 0.35 + 0.25 \\cdot 0.65 = 0.5125 \\;.$$\n",
    "\n",
    "For other actions ($a_3$ for example), the probability will be\n",
    "\n",
    "$$\\mathbb{P}(a_3) = 0.25 \\cdot 0.65 = 0.1625 \\;.$$\n",
    "\n",
    "In this way, with consideration to the possible actions of the minotaur, the knew state transition probabilities can be found for an arbitrary distribution between the cases of moving randomly or towards the player.\n",
    "\n",
    "#### Introduction of keys\n",
    "\n",
    "The introduction of keys in position C could be solved by adding an extra dimension to the state space, indicating whether the keys have been found or not. The rewards will remain mostly the same, taking a legal step will be associated with a reward of -1 and walking into a wall, being eaten or dying of poison will be rewarded with -100. If the keys have not yet been found (the player has not yet been in position C), the reward for reaching the end position B will also be associated with a reward of -1, however. As soon as the player reaches position C and finds the keys the exit position B will again be associated with a zero reward. In this way, the player should learn to first visit C and then proceed to B."
   ]
  },
  {
   "cell_type": "markdown",
   "metadata": {},
   "source": [
    "## Problem 1h"
   ]
  },
  {
   "cell_type": "code",
   "execution_count": 2,
   "metadata": {
    "pycharm": {
     "name": "#%%\n"
    }
   },
   "outputs": [],
   "source": [
    "# Modified maze from lab0. Now corresponding to maze in lab1\n",
    "\n",
    "maze_2 = np.array([\n",
    "    [0, 0, 1, 0, 0, 0, 0, 3],\n",
    "    [0, 0, 1, 0, 0, 1, 0, 0],\n",
    "    [0, 0, 1, 0, 0, 1, 1, 1],\n",
    "    [0, 0, 1, 0, 0, 1, 0, 0],\n",
    "    [0, 0, 0, 0, 0, 0, 0, 0],\n",
    "    [0, 1, 1, 1, 1, 1, 1, 0],\n",
    "    [0, 0, 0, 0, 1, 2, 0, 0]\n",
    "])"
   ]
  },
  {
   "cell_type": "code",
   "execution_count": 3,
   "metadata": {
    "pycharm": {
     "name": "#%%\n"
    },
    "scrolled": true
   },
   "outputs": [
    {
     "data": {
      "image/png": "[encoded data removed]",
      "text/plain": [
       "<Figure size 576x504 with 1 Axes>"
      ]
     },
     "metadata": {},
     "output_type": "display_data"
    }
   ],
   "source": [
    "import maze_keys as mz_k\n",
    "mz_k.draw_maze(maze_2)"
   ]
  },
  {
   "cell_type": "code",
   "execution_count": 4,
   "metadata": {
    "scrolled": true
   },
   "outputs": [],
   "source": [
    "env_6 = mz_k.Maze(maze_2, life_mean=50, prob_random=0.65)"
   ]
  },
  {
   "cell_type": "code",
   "execution_count": 5,
   "metadata": {},
   "outputs": [],
   "source": [
    "V,policy_6 = mz_k.value_iteration(env_6, 0.9, epsilon=0.01)"
   ]
  },
  {
   "cell_type": "code",
   "execution_count": 6,
   "metadata": {
    "scrolled": true
   },
   "outputs": [
    {
     "name": "stdout",
     "output_type": "stream",
     "text": [
      "[0 0 2 ... 0 0 0]\n"
     ]
    }
   ],
   "source": [
    "print(policy_6)"
   ]
  },
  {
   "cell_type": "code",
   "execution_count": 7,
   "metadata": {},
   "outputs": [],
   "source": [
    "method = 'ValIter'\n",
    "start_6 = (0,0,6,5,0)\n",
    "path_6 = env_6.simulate(start_6, policy_6, method)"
   ]
  },
  {
   "cell_type": "code",
   "execution_count": 9,
   "metadata": {},
   "outputs": [
    {
     "data": {
      "image/png": "[encoded data removed]",
      "text/plain": [
       "<Figure size 576x504 with 1 Axes>"
      ]
     },
     "metadata": {},
     "output_type": "display_data"
    }
   ],
   "source": [
    "mz_k.animate_solution(maze_2, path_6)"
   ]
  },
  {
   "cell_type": "markdown",
   "metadata": {},
   "source": [
    "#### Verification of environment\n",
    "\n",
    "Using the theoretical calculations presented previously for the case when the minotaur is not allowed to stand still, an exact probability of exiting the maze can be obtained. The minimum amount of steps taken to exit the maze is $29$ with the addition of the keys, and using the $CDF$ with $p = \\tfrac{1}{50}$ we can calculate the probability of escaping as:\n",
    "\n",
    "$$\\mathbb{P}(escape) = (1-p)^{29} \\approx 0.5567 \\;.$$\n",
    "\n",
    "Below is an estimation of this value using $N=10000$ simulations:"
   ]
  },
  {
   "cell_type": "code",
   "execution_count": null,
   "metadata": {
    "jupyter": {
     "outputs_hidden": false
    },
    "pycharm": {
     "name": "#%%\n"
    }
   },
   "outputs": [],
   "source": [
    "nr_escape = 0\n",
    "method = 'ValIter'\n",
    "N = 10000\n",
    "for i in range(N):\n",
    "    path_7 = env_6.simulate(start_6, policy_6, method)\n",
    "    if path_7[-1] != \"Dead\":\n",
    "        if maze[path_7[-1][0:2]] == 2 and path_7[-1][0:2] != path_7[-1][2:] and path_7[-1][-1]==1:\n",
    "            nr_escape+=1\n",
    "print(\"Estimated probability of successful escape:\")\n",
    "print(nr_escape/N)\n"
   ]
  },
  {
   "cell_type": "markdown",
   "metadata": {},
   "source": [
    "#### Analysis\n",
    "We see, again, that the estimated value is close to the theoretically calculated one, and conclude that the environment seems to function as it should"
   ]
  },
  {
   "cell_type": "markdown",
   "metadata": {},
   "source": [
    "## QLearning\n"
   ]
  },
  {
   "cell_type": "code",
   "execution_count": 73,
   "metadata": {},
   "outputs": [],
   "source": [
    "# Modified maze from lab0. Now corresponding to maze in lab1\n",
    "\n",
    "maze_Q = np.array([\n",
    "    [0, 0, 1, 0, 0, 0, 0, 3],\n",
    "    [0, 0, 1, 0, 0, 1, 0, 0],\n",
    "    [0, 0, 1, 0, 0, 1, 1, 1],\n",
    "    [0, 0, 1, 0, 0, 1, 0, 0],\n",
    "    [0, 0, 0, 0, 0, 0, 0, 0],\n",
    "    [0, 1, 1, 1, 1, 1, 1, 0],\n",
    "    [0, 0, 0, 0, 1, 2, 0, 0]\n",
    "])\n",
    "\n",
    "import maze_keys as mz_k\n",
    "from QLearning import qlearning"
   ]
  },
  {
   "cell_type": "code",
   "execution_count": 41,
   "metadata": {},
   "outputs": [
    {
     "name": "stdout",
     "output_type": "stream",
     "text": [
      "0\n",
      "1000\n",
      "2000\n",
      "3000\n",
      "4000\n",
      "5000\n",
      "6000\n",
      "7000\n",
      "8000\n",
      "9000\n",
      "10000\n",
      "11000\n",
      "12000\n",
      "13000\n",
      "14000\n",
      "15000\n",
      "16000\n",
      "17000\n",
      "18000\n",
      "19000\n",
      "20000\n",
      "21000\n",
      "22000\n",
      "23000\n",
      "24000\n",
      "25000\n",
      "26000\n",
      "27000\n",
      "28000\n",
      "29000\n",
      "30000\n",
      "31000\n",
      "32000\n",
      "33000\n",
      "34000\n",
      "35000\n",
      "36000\n",
      "37000\n",
      "38000\n",
      "39000\n",
      "40000\n",
      "41000\n",
      "42000\n",
      "43000\n",
      "44000\n",
      "45000\n",
      "46000\n",
      "47000\n",
      "48000\n",
      "49000\n",
      "Nr of times initial state has been visited\n",
      "[ 7614.  6530.  9984.  6356. 33989.]\n"
     ]
    }
   ],
   "source": [
    "env_Q = mz_k.Maze(maze_Q, life_mean=50, prob_random=0.65)\n",
    "epsilon = 0.5\n",
    "Q, policy_Q, V_convergence = qlearning(env_Q, epsilon, gamma = 0.9, N=50000)"
   ]
  },
  {
   "cell_type": "code",
   "execution_count": 46,
   "metadata": {},
   "outputs": [],
   "source": [
    "method = 'ValIter'\n",
    "start_Q = (0,0,6,5,0)\n",
    "path_Q = env_Q.simulate(start_Q, policy_Q, method)"
   ]
  },
  {
   "cell_type": "code",
   "execution_count": null,
   "metadata": {},
   "outputs": [
    {
     "data": {
      "image/png": "[encoded data removed]",
      "text/plain": [
       "<Figure size 576x504 with 1 Axes>"
      ]
     },
     "metadata": {},
     "output_type": "display_data"
    }
   ],
   "source": [
    "mz_k.animate_solution(maze_Q, path_Q)"
   ]
  },
  {
   "cell_type": "code",
   "execution_count": 17,
   "metadata": {},
   "outputs": [
    {
     "name": "stdout",
     "output_type": "stream",
     "text": [
      "-100.0\n"
     ]
    }
   ],
   "source": [
    "print(env_Q.rewards[env_Q.map[(2,1,2,1,0)], 1])"
   ]
  },
  {
   "cell_type": "code",
   "execution_count": 15,
   "metadata": {},
   "outputs": [
    {
     "data": {
      "image/png": "[encoded data removed]",
      "text/plain": [
       "<Figure size 432x288 with 1 Axes>"
      ]
     },
     "metadata": {
      "needs_background": "light"
     },
     "output_type": "display_data"
    }
   ],
   "source": [
    "plt.plot(V_convergence)\n",
    "plt.show()"
   ]
  },
  {
   "cell_type": "code",
   "execution_count": 10,
   "metadata": {},
   "outputs": [
    {
     "name": "stdout",
     "output_type": "stream",
     "text": [
      "0\n",
      "1000\n",
      "2000\n",
      "3000\n",
      "4000\n",
      "5000\n",
      "6000\n",
      "7000\n",
      "8000\n",
      "9000\n",
      "10000\n",
      "11000\n",
      "12000\n",
      "13000\n",
      "14000\n",
      "15000\n",
      "16000\n",
      "17000\n",
      "18000\n",
      "19000\n",
      "20000\n",
      "21000\n",
      "22000\n",
      "23000\n",
      "24000\n",
      "25000\n",
      "26000\n",
      "27000\n",
      "28000\n",
      "29000\n",
      "30000\n",
      "31000\n",
      "32000\n",
      "33000\n",
      "34000\n",
      "35000\n",
      "36000\n",
      "37000\n",
      "38000\n",
      "39000\n",
      "40000\n",
      "41000\n",
      "42000\n",
      "43000\n",
      "44000\n",
      "45000\n",
      "46000\n",
      "47000\n",
      "48000\n",
      "49000\n",
      "Nr of times initial state has been visited\n",
      "[ 6908.  1056.  6655.   991. 36846.]\n"
     ]
    },
    {
     "data": {
      "image/png": "[encoded data removed]",
      "text/plain": [
       "<Figure size 432x288 with 1 Axes>"
      ]
     },
     "metadata": {
      "needs_background": "light"
     },
     "output_type": "display_data"
    }
   ],
   "source": [
    "env_Q = mz_k.Maze(maze_Q, life_mean=50, prob_random=0.65)\n",
    "epsilon = 0.1\n",
    "Q, policy_Q, V_convergence = qlearning(env_Q, epsilon, gamma = 0.9, N=50000)\n",
    "plt.plot(V_convergence)\n",
    "plt.show()"
   ]
  },
  {
   "cell_type": "code",
   "execution_count": 56,
   "metadata": {
    "scrolled": true
   },
   "outputs": [
    {
     "name": "stdout",
     "output_type": "stream",
     "text": [
      "0\n",
      "1000\n",
      "2000\n",
      "3000\n",
      "4000\n",
      "5000\n",
      "6000\n",
      "7000\n",
      "8000\n",
      "9000\n",
      "10000\n",
      "11000\n",
      "12000\n",
      "13000\n",
      "14000\n",
      "15000\n",
      "16000\n",
      "17000\n",
      "18000\n",
      "19000\n",
      "20000\n",
      "21000\n",
      "22000\n",
      "23000\n",
      "24000\n",
      "25000\n",
      "26000\n",
      "27000\n",
      "28000\n",
      "29000\n",
      "30000\n",
      "31000\n",
      "32000\n",
      "33000\n",
      "34000\n",
      "35000\n",
      "36000\n",
      "37000\n",
      "38000\n",
      "39000\n",
      "40000\n",
      "41000\n",
      "42000\n",
      "43000\n",
      "44000\n",
      "45000\n",
      "46000\n",
      "47000\n",
      "48000\n",
      "49000\n",
      "Nr of times initial state has been visited\n",
      "[ 4973.   997.  6467.   989. 38958.]\n"
     ]
    },
    {
     "data": {
      "image/png": "[encoded data removed]",
      "text/plain": [
       "<Figure size 432x288 with 1 Axes>"
      ]
     },
     "metadata": {
      "needs_background": "light"
     },
     "output_type": "display_data"
    }
   ],
   "source": [
    "env_Q = mz_k.Maze(maze_Q, life_mean=50, prob_random=0.65)\n",
    "epsilon = 0.1\n",
    "Q, policy_Q, V_convergence = qlearning(env_Q, epsilon, gamma = 0.9, N=50000)\n",
    "plt.plot(V_convergence)\n",
    "plt.show()"
   ]
  },
  {
   "cell_type": "code",
   "execution_count": 8,
   "metadata": {},
   "outputs": [],
   "source": [
    "method = 'ValIter'\n",
    "start_Q = (0,0,6,5,0)\n",
    "path_Q = env_Q.simulate(start_Q, policy_Q, method)"
   ]
  },
  {
   "cell_type": "code",
   "execution_count": 9,
   "metadata": {},
   "outputs": [
    {
     "data": {
      "image/png": "[encoded data removed]",
      "text/plain": [
       "<Figure size 576x504 with 1 Axes>"
      ]
     },
     "metadata": {},
     "output_type": "display_data"
    }
   ],
   "source": [
    "mz_k.animate_solution(maze_Q, path_Q)"
   ]
  },
  {
   "cell_type": "code",
   "execution_count": 2,
   "metadata": {},
   "outputs": [],
   "source": [
    "import maze_keys as mz_k\n",
    "import q_learning\n",
    "\n",
    "maze_Q = np.array([\n",
    "        [0, 0, 1, 0, 0, 0, 0, 3],\n",
    "        [0, 0, 1, 0, 0, 1, 0, 0],\n",
    "        [0, 0, 1, 0, 0, 1, 1, 1],\n",
    "        [0, 0, 1, 0, 0, 1, 0, 0],\n",
    "        [0, 0, 0, 0, 0, 0, 0, 0],\n",
    "        [0, 1, 1, 1, 1, 1, 1, 0],\n",
    "        [0, 0, 0, 0, 1, 2, 0, 0]\n",
    "    ])\n",
    "\n",
    "env_Q = mz_k.Maze(maze_Q, life_mean=50)"
   ]
  },
  {
   "cell_type": "code",
   "execution_count": 3,
   "metadata": {},
   "outputs": [
    {
     "name": "stdout",
     "output_type": "stream",
     "text": [
      "0 -1.0\n",
      "1000 -7.292071090548221\n",
      "2000 -9.03753266127923\n",
      "3000 -9.463057789946529\n",
      "4000 -11.008468579511922\n",
      "5000 -11.918161913181834\n",
      "6000 -13.388846808676803\n",
      "7000 -13.387311504826565\n",
      "8000 -13.83778868218444\n",
      "9000 -14.30640698141535\n",
      "10000 -15.283133894201722\n",
      "11000 -15.031627362289237\n",
      "12000 -15.727129353762253\n",
      "13000 -15.573171540200102\n",
      "14000 -15.820025498427599\n",
      "15000 -16.391114103161506\n",
      "16000 -15.923145603264214\n",
      "17000 -15.985596575569277\n",
      "18000 -16.58452325024493\n",
      "19000 -16.954895563861328\n",
      "20000 -17.061597403911644\n",
      "21000 -16.583882789788127\n",
      "22000 -17.246606742820187\n",
      "23000 -17.354797787928305\n",
      "24000 -17.211816696579795\n",
      "25000 -17.280265371397665\n",
      "26000 -17.617851602150118\n",
      "27000 -17.079233101410704\n",
      "28000 -18.277444640429763\n",
      "29000 -17.88466914992376\n",
      "30000 -17.784699749343364\n",
      "31000 -18.360251078739108\n",
      "32000 -17.953907596872064\n",
      "33000 -17.756816494984285\n",
      "34000 -18.02393562567485\n",
      "35000 -18.397815638088506\n",
      "36000 -18.555936857226186\n",
      "37000 -18.53023944690199\n",
      "38000 -18.803193738667417\n",
      "39000 -18.78912433450812\n",
      "40000 -18.87133288935734\n",
      "41000 -19.286455626085814\n",
      "42000 -19.084462192629818\n",
      "43000 -18.85382469994593\n",
      "44000 -19.091672900170856\n",
      "45000 -19.21043151259861\n",
      "46000 -19.65915452871009\n",
      "47000 -19.315271937952172\n",
      "48000 -19.456270070920837\n",
      "49000 -19.408769456286187\n"
     ]
    },
    {
     "data": {
      "image/png": "[encoded data removed]",
      "text/plain": [
       "<Figure size 432x288 with 1 Axes>"
      ]
     },
     "metadata": {
      "needs_background": "light"
     },
     "output_type": "display_data"
    }
   ],
   "source": [
    "agent = q_learning.QLearningAgent(env_Q, alpha=2/3, gamma=0.9, epsilon=0.2)\n",
    "start_Q = (0, 0, 6, 5, 0)\n",
    "N = 50000\n",
    "V_convergence = np.empty(N)\n",
    "for i in range(N):\n",
    "    path_Q, policy_Q, Q = env_Q.Q_learning_sim(start_Q, q_agent=agent)\n",
    "    V_convergence[i] = max(Q[env_Q.map[(0, 0, 6, 5, 0)], :])\n",
    "    if i % 1000 == 0:\n",
    "        print(i, V_convergence[i])\n",
    "plt.plot(V_convergence)\n",
    "plt.show()"
   ]
  },
  {
   "cell_type": "markdown",
   "metadata": {},
   "source": [
    "## Problem 1i"
   ]
  },
  {
   "cell_type": "markdown",
   "metadata": {},
   "source": [
    "## SARSA\n",
    "1) pseudo code:\n",
    "Parameter. Step sizes ($\\alpha_{t}$), Discount factor ($\\gamma$), random exploration probability ($\\epsilon$)\n",
    "1. Initialization. Select a Q-function $Q^{(0)} \\in \\mathbb{R}(S \\times A)$, which can be initialized as the reward.\n",
    "2. Observations. $(s_{t}, a_{t}, r_{t}, s_{t+1}, a_{t+1})$ under $\\pi_{t}$ $\\epsilon$-greedy w.r.t.$Q^{(t)}$\n",
    "3. Q-function improvement. For $t ≥ 0$. Update the estimated\n",
    "Q-function as follows:\n",
    "$$ \\forall s, a, Q^{(t + 1)}(s, a) = Q^{(t)}(s, a) + 1_{(s_{t}, a_{t}) = (s, a)} \\frac{1}{n(s, a)^{\\alpha}}[r_{t} + \\gamma (Q^{(t + 1)}(s_{t + 1}, a_{t + 1}) - Q^{(t)}(s_{t}, a_{t}))]$$"
   ]
  },
  {
   "cell_type": "code",
   "execution_count": 11,
   "metadata": {},
   "outputs": [],
   "source": [
    "import maze_keys as mz_k\n",
    "import sarsa\n",
    "\n",
    "maze_S = np.array([\n",
    "        [0, 0, 1, 0, 0, 0, 0, 3],\n",
    "        [0, 0, 1, 0, 0, 1, 0, 0],\n",
    "        [0, 0, 1, 0, 0, 1, 1, 1],\n",
    "        [0, 0, 1, 0, 0, 1, 0, 0],\n",
    "        [0, 0, 0, 0, 0, 0, 0, 0],\n",
    "        [0, 1, 1, 1, 1, 1, 1, 0],\n",
    "        [0, 0, 0, 0, 1, 2, 0, 0]\n",
    "    ])\n",
    "\n",
    "env_S = mz_k.Maze(maze_S, life_mean=50)"
   ]
  },
  {
   "cell_type": "markdown",
   "metadata": {},
   "source": [
    "2)Solve for $\\epsilon = 0.2$, initialize $Q$ with rewards:"
   ]
  },
  {
   "cell_type": "code",
   "execution_count": 15,
   "metadata": {},
   "outputs": [
    {
     "name": "stdout",
     "output_type": "stream",
     "text": [
      "0 -1.0\n",
      "1000 -15.025219192831349\n",
      "2000 -18.49140033956452\n",
      "3000 -20.95321942322348\n",
      "4000 -22.873664389336838\n",
      "5000 -25.20529005297574\n",
      "6000 -26.63544038028822\n",
      "7000 -29.013589844189895\n",
      "8000 -30.299990623662328\n",
      "9000 -31.407796195785398\n",
      "10000 -32.51943471738409\n",
      "11000 -33.45992321861155\n",
      "12000 -34.00641185782478\n",
      "13000 -35.29009900324786\n",
      "14000 -36.46385040470626\n",
      "15000 -37.09975721121713\n",
      "16000 -37.36736259355066\n",
      "17000 -37.95423745494509\n",
      "18000 -38.74273600250102\n",
      "19000 -38.482631880482145\n",
      "20000 -39.51917662617192\n",
      "21000 -40.356612877834394\n",
      "22000 -40.72427282036976\n",
      "23000 -41.076701144305176\n",
      "24000 -41.44668845445418\n",
      "25000 -41.90184502793107\n",
      "26000 -42.345359791277225\n",
      "27000 -42.814813650268235\n",
      "28000 -43.16666824990019\n",
      "29000 -43.30705117141633\n",
      "30000 -43.35651605537107\n",
      "31000 -43.93814943953049\n",
      "32000 -44.26125862511809\n",
      "33000 -44.914934775495226\n",
      "34000 -45.1132147448747\n",
      "35000 -45.23462108203613\n",
      "36000 -45.79971241458979\n",
      "37000 -45.95189179061168\n",
      "38000 -46.11736536234282\n",
      "39000 -46.173562510671985\n",
      "40000 -46.26792012123025\n",
      "41000 -46.83595140087492\n",
      "42000 -47.271835953161386\n",
      "43000 -47.45675398486938\n",
      "44000 -47.65996312071683\n",
      "45000 -47.73751093054079\n",
      "46000 -48.08582595971264\n",
      "47000 -48.132858191523916\n",
      "48000 -48.41294164781953\n",
      "49000 -48.50213150171271\n"
     ]
    },
    {
     "data": {
      "image/png": "[encoded data removed]",
      "text/plain": [
       "<Figure size 432x288 with 1 Axes>"
      ]
     },
     "metadata": {
      "needs_background": "light"
     },
     "output_type": "display_data"
    }
   ],
   "source": [
    "agent = sarsa.SarsaAgent(env_S, alpha=2/3, gamma=0.98, epsilon=0.2)\n",
    "start_S = (0, 0, 6, 5, 0)\n",
    "N = 50000\n",
    "V_convergence = np.empty(N)\n",
    "for i in range(N):\n",
    "    path_S, policy, Q = env_S.sarsa_learning(start_S, sarsa_agent=agent)\n",
    "    V_convergence[i] = max(Q[env_S.map[(0, 0, 6, 5, 0)], :])\n",
    "    if i % 1000 == 0:\n",
    "        print(i, V_convergence[i])\n",
    "plt.plot(V_convergence)\n",
    "plt.show()"
   ]
  },
  {
   "cell_type": "markdown",
   "metadata": {},
   "source": [
    "Solve for $\\epsilon = 0.1$, initialize $Q$ with rewards:"
   ]
  },
  {
   "cell_type": "code",
   "execution_count": 17,
   "metadata": {
    "scrolled": true
   },
   "outputs": [
    {
     "name": "stdout",
     "output_type": "stream",
     "text": [
      "0 -1.0\n",
      "1000 -11.853448344224528\n",
      "2000 -15.465681183720148\n",
      "3000 -18.138731344591307\n",
      "4000 -22.61177811717854\n",
      "5000 -22.609166573262446\n",
      "6000 -24.58751500843059\n",
      "7000 -26.397786802820136\n",
      "8000 -27.97598392705895\n",
      "9000 -28.94675136490824\n",
      "10000 -30.198915750822806\n",
      "11000 -30.859599361398963\n",
      "12000 -31.23195388682841\n",
      "13000 -32.109371275879575\n",
      "14000 -33.03459204531121\n",
      "15000 -33.675908397608794\n",
      "16000 -34.14226007711288\n",
      "17000 -34.86765489862551\n",
      "18000 -35.58461597792055\n",
      "19000 -35.7308199314866\n",
      "20000 -36.530556342164246\n",
      "21000 -37.28388693783163\n",
      "22000 -37.46223105009462\n",
      "23000 -38.123126188003994\n",
      "24000 -38.18912603626077\n",
      "25000 -38.665018371162525\n",
      "26000 -39.14409538725301\n",
      "27000 -39.39032932857672\n",
      "28000 -39.727633788896235\n",
      "29000 -40.16796130346556\n",
      "30000 -40.08625412659121\n",
      "31000 -40.38012475209433\n",
      "32000 -40.75937098487607\n",
      "33000 -41.03127876541712\n",
      "34000 -40.996937100280284\n",
      "35000 -41.55475921673203\n",
      "36000 -41.63814480005927\n",
      "37000 -42.23867303267769\n",
      "38000 -42.62964468432995\n",
      "39000 -42.77802986972731\n",
      "40000 -42.9619775978402\n",
      "41000 -43.12867727390571\n",
      "42000 -43.312061754213964\n",
      "43000 -43.49666904299324\n",
      "44000 -43.64785969376928\n",
      "45000 -43.908511979965546\n",
      "46000 -44.12399973862373\n",
      "47000 -44.39810036366196\n",
      "48000 -44.728234777168744\n",
      "49000 -44.76921328951508\n"
     ]
    },
    {
     "data": {
      "image/png": "[encoded data removed]",
      "text/plain": [
       "<Figure size 432x288 with 1 Axes>"
      ]
     },
     "metadata": {
      "needs_background": "light"
     },
     "output_type": "display_data"
    }
   ],
   "source": [
    "agent = sarsa.SarsaAgent(env_S, alpha=2/3, gamma=0.98, epsilon=0.1)\n",
    "start_S = (0, 0, 6, 5, 0)\n",
    "N = 50000\n",
    "V_convergence = np.empty(N)\n",
    "for i in range(N):\n",
    "    path_S, policy, Q = env_S.sarsa_learning(start_S, sarsa_agent=agent)\n",
    "    V_convergence[i] = max(Q[env_S.map[(0, 0, 6, 5, 0)], :])\n",
    "    if i % 1000 == 0:\n",
    "        print(i, V_convergence[i])\n",
    "plt.plot(V_convergence)\n",
    "plt.show()"
   ]
  },
  {
   "cell_type": "markdown",
   "metadata": {},
   "source": [
    "Solve for $\\epsilon = 0.2$, initialize $Q$ with zero matrix:"
   ]
  },
  {
   "cell_type": "code",
   "execution_count": 8,
   "metadata": {
    "pycharm": {
     "name": "#%%\n"
    }
   },
   "outputs": [
    {
     "name": "stdout",
     "output_type": "stream",
     "text": [
      "0 0.0\n",
      "1000 -4.244295041947521\n",
      "2000 -5.017161873587471\n",
      "3000 -5.579110590427155\n",
      "4000 -5.876273331591904\n",
      "5000 -6.159203518694977\n",
      "6000 -6.4609661303633805\n",
      "7000 -6.639157649773183\n",
      "8000 -6.821473508187943\n",
      "9000 -6.962732350534483\n",
      "10000 -7.088792768916399\n",
      "11000 -7.229542731143703\n",
      "12000 -7.347971064692894\n",
      "13000 -7.472815284749932\n",
      "14000 -7.5157549544699735\n",
      "15000 -7.453469866496201\n",
      "16000 -7.671429416278697\n",
      "17000 -7.731724912506794\n",
      "18000 -7.764770430849486\n",
      "19000 -7.739669746075689\n",
      "20000 -7.851378866262791\n",
      "21000 -7.898658148285577\n",
      "22000 -7.958291588700298\n",
      "23000 -7.981920877490696\n",
      "24000 -8.028222799355902\n",
      "25000 -7.998476657029\n",
      "26000 -8.070693499905323\n",
      "27000 -8.131081429068116\n",
      "28000 -8.13977766639834\n",
      "29000 -8.126803825146778\n",
      "30000 -8.20879321550263\n",
      "31000 -8.221352821143729\n",
      "32000 -8.247525445451926\n",
      "33000 -8.271977941560722\n",
      "34000 -8.2899077393255\n",
      "35000 -8.288526968908988\n",
      "36000 -8.252882100614007\n",
      "37000 -8.342773842212377\n",
      "38000 -8.382720322856756\n",
      "39000 -8.387182976924786\n",
      "40000 -8.41438680319224\n",
      "41000 -8.368760944954342\n",
      "42000 -8.445648037478344\n",
      "43000 -8.448355050757447\n",
      "44000 -8.482404787232468\n",
      "45000 -8.456899797170324\n",
      "46000 -8.461733462361883\n",
      "47000 -8.5078520189586\n",
      "48000 -8.518846811140534\n",
      "49000 -8.524339240247473\n"
     ]
    },
    {
     "data": {
      "image/png": "[encoded data removed]",
      "text/plain": [
       "<Figure size 432x288 with 1 Axes>"
      ]
     },
     "metadata": {
      "needs_background": "light"
     },
     "output_type": "display_data"
    }
   ],
   "source": [
    "agent = sarsa.SarsaAgent(env_S, alpha=2/3, gamma=0.9, epsilon=0.2)\n",
    "agent.Q = np.zeros((env_S.n_states, env_S.n_actions))\n",
    "start_S = (0, 0, 6, 5, 0)\n",
    "N = 50000\n",
    "V_convergence = np.empty(N)\n",
    "for i in range(N):\n",
    "    path_S, policy, Q = env_S.sarsa_learning(start_S, sarsa_agent=agent)\n",
    "    V_convergence[i] = max(Q[env_S.map[(0, 0, 6, 5, 0)], :])\n",
    "    if i % 1000 == 0:\n",
    "        print(i, V_convergence[i])\n",
    "plt.plot(V_convergence)\n",
    "plt.show()"
   ]
  },
  {
   "cell_type": "markdown",
   "metadata": {},
   "source": [
    "Solve for $\\epsilon = 0.1$, initialize $Q$ with zero matrix:"
   ]
  },
  {
   "cell_type": "code",
   "execution_count": 7,
   "metadata": {
    "pycharm": {
     "name": "#%%\n"
    }
   },
   "outputs": [
    {
     "name": "stdout",
     "output_type": "stream",
     "text": [
      "0 0.0\n",
      "1000 -4.245699572340449\n",
      "2000 -4.8521535068250214\n",
      "3000 -5.359617392964831\n",
      "4000 -5.708744128946972\n",
      "5000 -5.988867526219796\n",
      "6000 -6.201946060210114\n",
      "7000 -6.307178898412154\n",
      "8000 -6.494871312695783\n",
      "9000 -6.69161554591761\n",
      "10000 -6.820236136108989\n",
      "11000 -6.938968448246976\n",
      "12000 -7.016096172826546\n",
      "13000 -7.135485270221526\n",
      "14000 -7.247193003119868\n",
      "15000 -7.326280599571348\n",
      "16000 -7.372590881808649\n",
      "17000 -7.457104794091798\n",
      "18000 -7.51112434545732\n",
      "19000 -7.583083295255634\n",
      "20000 -7.593315413741677\n",
      "21000 -7.57912760279151\n",
      "22000 -7.65630768434828\n",
      "23000 -7.669686462259158\n",
      "24000 -7.7410885227519755\n",
      "25000 -7.7828035375201\n",
      "26000 -7.750927513060552\n",
      "27000 -7.793915379063885\n",
      "28000 -7.81546565734323\n",
      "29000 -7.859816939716232\n",
      "30000 -7.900938639468807\n",
      "31000 -7.8894930806811185\n",
      "32000 -7.923314773789827\n",
      "33000 -7.961584050358401\n",
      "34000 -7.957563713296271\n",
      "35000 -8.006643202737973\n",
      "36000 -8.032856167204233\n",
      "37000 -8.091117544012029\n",
      "38000 -8.0791738076135\n",
      "39000 -8.122874379083655\n",
      "40000 -8.102821881875364\n",
      "41000 -8.118879554666227\n",
      "42000 -8.137480590557162\n",
      "43000 -8.103679728782852\n",
      "44000 -8.143024475860289\n",
      "45000 -8.11141104232123\n",
      "46000 -8.14315594162846\n",
      "47000 -8.177432159691962\n",
      "48000 -8.182874870916264\n",
      "49000 -8.188509864881738\n"
     ]
    },
    {
     "data": {
      "image/png": "[encoded data removed]",
      "text/plain": [
       "<Figure size 432x288 with 1 Axes>"
      ]
     },
     "metadata": {
      "needs_background": "light"
     },
     "output_type": "display_data"
    }
   ],
   "source": [
    "agent = sarsa.SarsaAgent(env_S, alpha=2/3, gamma=0.9, epsilon=0.1)\n",
    "agent.Q = np.zeros((env_S.n_states, env_S.n_actions))\n",
    "start_S = (0, 0, 6, 5, 0)\n",
    "N = 50000\n",
    "V_convergence = np.empty(N)\n",
    "for i in range(N):\n",
    "    path_S, policy, Q = env_S.sarsa_learning(start_S, sarsa_agent=agent)\n",
    "    V_convergence[i] = max(Q[env_S.map[(0, 0, 6, 5, 0)], :])\n",
    "    if i % 1000 == 0:\n",
    "        print(i, V_convergence[i])\n",
    "plt.plot(V_convergence)\n",
    "plt.show()"
   ]
  },
  {
   "cell_type": "markdown",
   "metadata": {},
   "source": [
    "3) where the exploration parameter decreases in each episode, solve for $\\epsilon = 0.2$, initialize $Q$ with zero matrix:"
   ]
  },
  {
   "cell_type": "code",
   "execution_count": null,
   "metadata": {
    "pycharm": {
     "name": "#%%\n"
    }
   },
   "outputs": [
    {
     "name": "stdout",
     "output_type": "stream",
     "text": [
      "0 0.0\n",
      "1000 -4.186505182477732\n",
      "2000 -4.887302315029676\n"
     ]
    }
   ],
   "source": [
    "delta = 0.7\n",
    "agent = sarsa.SarsaAgent(env_S, alpha=2/3, gamma=0.9, epsilon=1)\n",
    "agent.Q = np.zeros((env_S.n_states, env_S.n_actions))\n",
    "start_S = (0, 0, 6, 5, 0)\n",
    "N = 50000\n",
    "V_convergence = np.empty(N)\n",
    "for i in range(N):\n",
    "    agent.epsilon = 1 / ((i + 1)**delta)\n",
    "    path_S, policy_S, Q = env_S.sarsa_learning(start_S, sarsa_agent=agent)\n",
    "    V_convergence[i] = max(Q[env_S.map[(0, 0, 6, 5, 0)], :])\n",
    "    if i % 1000 == 0:\n",
    "        print(i, V_convergence[i])\n",
    "plt.plot(V_convergence)\n",
    "plt.show()"
   ]
  },
  {
   "cell_type": "markdown",
   "metadata": {},
   "source": [
    "## Problem 1j\n",
    "Estimate the probability of leaving the maze using a policy computed through Q-learning:"
   ]
  },
  {
   "cell_type": "code",
   "execution_count": 10,
   "metadata": {
    "pycharm": {
     "name": "#%%\n"
    },
    "scrolled": true
   },
   "outputs": [
    {
     "name": "stdout",
     "output_type": "stream",
     "text": [
      "Estimated probability of successful escape:\n",
      "0.0546\n"
     ]
    }
   ],
   "source": [
    "method = 'ValIter'\n",
    "start_Q = (0,0,6,5,0)\n",
    "nr_escape = 0\n",
    "N = 10000\n",
    "for i in range(N):\n",
    "    path_Q = env_Q.simulate(start_Q, policy_Q, method)\n",
    "    if path_Q[-1] != \"Dead\":\n",
    "        if maze_Q[path_Q[-1][0:2]] == 2 and path_Q[-1][0:2] != path_Q[-1][2:] and path_Q[-1][-1]==1:\n",
    "            nr_escape+=1\n",
    "print(\"Estimated probability of successful escape:\")\n",
    "print(nr_escape/N)"
   ]
  },
  {
   "cell_type": "markdown",
   "metadata": {},
   "source": [
    "Estimate the probability of leaving the maze using a policy computed through SARSA:"
   ]
  },
  {
   "cell_type": "code",
   "execution_count": 18,
   "metadata": {
    "pycharm": {
     "name": "#%%\n"
    }
   },
   "outputs": [
    {
     "name": "stdout",
     "output_type": "stream",
     "text": [
      "Estimated probability of successful escape:\n",
      "0.1421\n"
     ]
    }
   ],
   "source": [
    "method = 'ValIter'\n",
    "start_S = (0,0,6,5,0)\n",
    "nr_escape = 0\n",
    "N = 10000\n",
    "for i in range(N):\n",
    "    path_S = env_S.simulate(start_S, policy, method)\n",
    "    if path_S[-1] != \"Dead\":\n",
    "        if maze_S[path_S[-1][0:2]] == 2 and path_S[-1][0:2] != path_S[-1][2:] and path_S[-1][-1]==1:\n",
    "            nr_escape+=1\n",
    "print(\"Estimated probability of successful escape:\")\n",
    "print(nr_escape/N)"
   ]
  },
  {
   "cell_type": "code",
   "execution_count": 71,
   "metadata": {},
   "outputs": [
    {
     "data": {
      "image/png": "[encoded data removed]",
      "text/plain": [
       "<Figure size 576x504 with 1 Axes>"
      ]
     },
     "metadata": {},
     "output_type": "display_data"
    }
   ],
   "source": [
    "mz_k.animate_solution(maze_S, path_S)"
   ]
  }
 ],
 "metadata": {
  "kernelspec": {
   "display_name": "Python 3",
   "language": "python",
   "name": "python3"
  },
  "language_info": {
   "codemirror_mode": {
    "name": "ipython",
    "version": 3
   },
   "file_extension": ".py",
   "mimetype": "text/x-python",
   "name": "python",
   "nbconvert_exporter": "python",
   "pygments_lexer": "ipython3",
   "version": "3.6.8"
  }
 },
 "nbformat": 4,
 "nbformat_minor": 4
}
