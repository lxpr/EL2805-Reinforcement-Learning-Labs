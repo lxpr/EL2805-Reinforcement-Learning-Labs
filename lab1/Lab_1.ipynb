{
 "cells": [
  {
   "cell_type": "markdown",
   "metadata": {},
   "source": [
    "## El 2805 Lab 1\n",
    "By: David Rommedahl, Ning Wang\n",
    "\n",
    "## Problem 1a:\n",
    "\n",
    "To model the problem as an MDP we can consider the maze.py code that was used for Lab 0, modifying it to accomodate for the case of the added minotaur.\n",
    "After modifying the actual maze so that it fits the new description we have to define the state space, action space, transition probabilities and the rewards.\n",
    "\n",
    "\n",
    "#### State Space\n",
    "We consider the state space:\n",
    "\n",
    "\\begin{equation}\n",
    "    \\mathcal{S} = \\left\\{(i,j,m,n): \\textrm{such that maze}[i,j]\\neq 1 \\textrm{ and the cell }(m,n) \\textrm{ is any cell within the maze}\\right\\}.\n",
    "\\end{equation}\n",
    "\n",
    "This way the indexes $(i,j)$ represent the player's position within the maze and $(m,n)$ represent the minotaur's position, and any combination of these positions within the maze that do not put the player inside of a wall are valid states. The size of the state space is greatly increased from the model of Lab 0, but the model is conceptually simple.\n",
    "\n",
    "#### Action Space\n",
    "The action space is the same as for Lab 0:\n",
    "\n",
    "$$\\mathcal{A} = \\lbrace \\textrm{up}, \\textrm{ down}, \\textrm{ left}, \\textrm{ right}, \\textrm{ stay} \\rbrace.$$\n",
    "\n",
    "#### Transition Probabilities\n",
    "The transition probabilities is the part of this lab where the greatest modification had to be made to the model from Lab 0. The movements of the player are deterministic (if the player chooses to move left the player will move left with probability 1 as long as moving left is a legal move. If it is not a legal move the player will remain in the same position), but the minotaur performs a random walk with the only limitation being that it is not allowed to stay in the same place (it is not allowed to perform a $\\textit{Snake}$-esque move of moving out of the maze on one side and reappearing on the other side of the maze either). As each state is defined as the position of the player $\\textit{and}$ the position of the minotaur, the state transition probabilities will be random with a probability given by the possible next positions for the minotaur.\n",
    "\n",
    "For example, if the player makes a legal move to the right and the minotaur is in a position where it is allowed to move in all four directions there are four possible next states for the action $\\textit{move right}$, each with a transition probability of $\\frac{1}{4}$.\n",
    "\n",
    "   - If at state $s$ action $a$ does not lead to a wall the transition probability is $\\mathbb{P}(s'\\mid s, a)=\\frac{1}{s_p}$, where $s_p$ is the number of possible next positions for the minotaur.\n",
    "   - If at state $s$ action $a$ $\\textit{does}$ lead to a wall the transition probability is $\\mathbb{P}(s\\mid s, a)=1$. This means that both the player and minotaur will stay in the same position. The fact that the minotaur does not move in this case does not matter for the implementation.\n",
    "   - If the player has reached the end state or is eaten by the minotaur ($(i,j)=(m,n)$) the transition probability is $\\mathbb{P}(s \\mid s, a) = 1$.\n",
    "\n",
    "#### Rewards\n",
    "\n",
    "The objective is to find the exit of the maze while avoiding obstacles and not being eaten by the minotaur:\n",
    "\n",
    "   - If the player walks into an obstacle or is eaten by the minotaur the player receives a reward of $r(s,a)=-100$\n",
    "   - If the player reaches the end state they receive a reward of $r(s,a)=0$\n",
    "   - If the player makes a legal move they receive a reward of $r(s,a)=-1$\n",
    "\n",
    "Since the transition probabilities are random in this implementation the rewards are received after an action is taken, which is consistent with the course litterature.\n",
    "\n",
    "## Problem 1b:\n",
    "\n",
    "In problem 1b we are expected to compute a policy which maximizes the probability of exiting the maze using dynamic programming and to illustrate this policy. We have decided to do this by using the methods for simulating and plotting a scenario already implemented for Lab 0, with modifications made to suite our code. "
   ]
  },
  {
   "cell_type": "code",
   "execution_count": 1,
   "metadata": {},
   "outputs": [],
   "source": [
    "import maze as mz\n",
    "import numpy as np\n",
    "from IPython import display\n",
    "from matplotlib import pyplot as plt\n",
    "\n",
    "# Modified maze from lab0. Now corresponding to maze in lab1\n",
    "\n",
    "maze = np.array([\n",
    "    [0, 0, 1, 0, 0, 0, 0, 0],\n",
    "    [0, 0, 1, 0, 0, 1, 0, 0],\n",
    "    [0, 0, 1, 0, 0, 1, 1, 1],\n",
    "    [0, 0, 1, 0, 0, 1, 0, 0],\n",
    "    [0, 0, 0, 0, 0, 0, 0, 0],\n",
    "    [0, 1, 1, 1, 1, 1, 1, 0],\n",
    "    [0, 0, 0, 0, 1, 2, 0, 0]\n",
    "])\n",
    "env_1 = mz.Maze(maze)"
   ]
  },
  {
   "cell_type": "code",
   "execution_count": 6,
   "metadata": {},
   "outputs": [],
   "source": [
    "#### Dynamic Programming\n",
    "\n",
    "# Finite horizon\n",
    "horizon = 20\n",
    "method = \"DynProg\"\n",
    "\n",
    "# Solve the MDP problem with dynamic programming\n",
    "V, policy_1 = mz.dynamic_programming(env_1, horizon)"
   ]
  },
  {
   "cell_type": "code",
   "execution_count": 7,
   "metadata": {},
   "outputs": [
    {
     "data": {
      "image/png": "[encoded data removed]",
      "text/plain": [
       "<Figure size 576x504 with 1 Axes>"
      ]
     },
     "metadata": {},
     "output_type": "display_data"
    }
   ],
   "source": [
    "\n",
    "\n",
    "# Simulate the shortest path starting from position A\n",
    "start = (0, 0, 6, 5)\n",
    "path_1 = env_1.simulate(start, policy_1, method)\n",
    "\n",
    "# Show the shortest path\n",
    "mz.animate_solution(maze, path_1)"
   ]
  },
  {
   "cell_type": "markdown",
   "metadata": {},
   "source": [
    "## Problem 1c:\n",
    "\n",
    "The next problem is to vary the time horizon, $T = 1,\\dots,30$. For each $T$, a policy which maximizes the probability of exiting the maze should be found, and the probability should be plotted. Finally, the case when the minotaur is allowed to stand still should also be considered."
   ]
  },
  {
   "cell_type": "markdown",
   "metadata": {},
   "source": [
    "#### Minotaur cannot stand still"
   ]
  },
  {
   "cell_type": "code",
   "execution_count": 4,
   "metadata": {},
   "outputs": [],
   "source": [
    "exit_probability_must_move = np.empty(30)\n",
    "\n",
    "for horizon in range(1, 31):\n",
    "    V, policy = mz.dynamic_programming(env_1, horizon)\n",
    "    exit_probability_must_move[horizon-1] = mz.policy_evaluation(env_1, policy, horizon)"
   ]
  },
  {
   "cell_type": "code",
   "execution_count": 5,
   "metadata": {},
   "outputs": [
    {
     "data": {
      "image/png": "[encoded data removed]",
      "text/plain": [
       "<Figure size 432x288 with 1 Axes>"
      ]
     },
     "metadata": {
      "needs_background": "light"
     },
     "output_type": "display_data"
    }
   ],
   "source": [
    "plt.plot(np.arange(1,31),exit_probability_must_move, label=\"Exit Probability\")\n",
    "plt.plot(np.ones(31), linestyle=\"--\", color=\"k\", label=\"$P=1$\")\n",
    "plt.legend()\n",
    "plt.title(\"Exit Probability When the Minotaur Must Move\")\n",
    "plt.ylabel(\"P\")\n",
    "plt.xlabel(\"Horizon\")\n",
    "plt.xlim([0, 30])\n",
    "plt.xticks([1, 4, 9, 14, 19, 24, 29], labels=[1,5,10,15,20,25,30])\n",
    "plt.show()"
   ]
  },
  {
   "cell_type": "markdown",
   "metadata": {},
   "source": [
    "#### Analysis\n",
    "Clearly the player has found an optimal policy which garantees them to leave the maze in 15 timesteps.\n",
    "\n",
    "#### The Minotaur is Allowed to Stand Still"
   ]
  },
  {
   "cell_type": "code",
   "execution_count": 6,
   "metadata": {},
   "outputs": [],
   "source": [
    "env_2 = mz.Maze(maze, stand_still=True)\n",
    "exit_probability_stand_still = np.empty(30)\n",
    "\n",
    "for horizon in range(1, 31):\n",
    "    V, policy = mz.dynamic_programming(env_2, horizon)\n",
    "    exit_probability_stand_still[horizon-1] = mz.policy_evaluation(env_2, policy, horizon)"
   ]
  },
  {
   "cell_type": "code",
   "execution_count": 7,
   "metadata": {},
   "outputs": [
    {
     "data": {
      "image/png": "[encoded data removed]",
      "text/plain": [
       "<Figure size 432x288 with 1 Axes>"
      ]
     },
     "metadata": {
      "needs_background": "light"
     },
     "output_type": "display_data"
    }
   ],
   "source": [
    "plt.plot(np.arange(1,31),exit_probability_stand_still, label=\"Exit Probability\")\n",
    "plt.plot(np.ones(31), linestyle=\"--\", color=\"k\", label=\"$P=1$\")\n",
    "plt.legend()\n",
    "plt.title(\"Exit Probability When the Minotaur Can Stand Still\")\n",
    "plt.ylabel(\"P\")\n",
    "plt.xlabel(\"Horizon\")\n",
    "plt.xlim([0, 30])\n",
    "plt.xticks([1, 4, 9, 14, 19, 24, 29], labels=[1,5,10,15,20,25,30])\n",
    "plt.show()"
   ]
  },
  {
   "cell_type": "markdown",
   "metadata": {},
   "source": [
    "#### Analysis\n",
    "If the minotaur is allowed to stand still there are more considerations for the player to make when choosing their route, and they are less likely to exit the maze. We see that the probability grows towards 1 when the time horizon becomes longer, but there is always a risk that the player gets stuck. Below is a simulation of one of these scenarios, when the horizon is 30 and the minotaur is allowed to stand still."
   ]
  },
  {
   "cell_type": "code",
   "execution_count": 8,
   "metadata": {},
   "outputs": [],
   "source": [
    "path_2 = env_2.simulate(start, policy, method)"
   ]
  },
  {
   "cell_type": "code",
   "execution_count": 9,
   "metadata": {},
   "outputs": [
    {
     "data": {
      "image/png": "[encoded data removed]",
      "text/plain": [
       "<Figure size 576x504 with 1 Axes>"
      ]
     },
     "metadata": {},
     "output_type": "display_data"
    }
   ],
   "source": [
    "mz.animate_solution(maze, path_2)"
   ]
  },
  {
   "cell_type": "markdown",
   "metadata": {},
   "source": [
    "## Problem 1d\n",
    "#### Player is poisoned\n",
    "\n",
    "If the player is poisoned and their life is geometrically distributed with mean 30, the probability of the player dying after k timesteps is $(1-p)^{k-1}p$, where $\\frac{1}{p}=30$. This gives us that the probability of dying at each individual timestep is given by $p = \\frac{1}{30}$.\n",
    "\n",
    "The main modification to the problem that is needed is to include a new, absorbing, \"Dead\" state. The transition probability to this new state for any $(s,a)$ pair is $p$ and the reward for ending up in this state is the same as for walking into a wall or being caught by the minotaur, $-100$. \n",
    "\n",
    "The $\\gamma$- parameter must be set high enough that the agent is motivated to find the exit. We have chosen to set it to 29/30. If $\\gamma$ is set too low the player will not know what to do, and will simply stay in place. \n",
    "\n",
    "Below is a simulation for the case when the agent is poisoned, and the minotaur is allowed to stand still.\n",
    "\n"
   ]
  },
  {
   "cell_type": "code",
   "execution_count": 10,
   "metadata": {},
   "outputs": [],
   "source": [
    "env_3 = mz.Maze(maze, stand_still=True, life_mean=30)\n",
    "V,policy_3 = mz.value_iteration(env_3, 1/3, epsilon=0.0001)"
   ]
  },
  {
   "cell_type": "code",
   "execution_count": 11,
   "metadata": {},
   "outputs": [],
   "source": [
    "method = 'ValIter'\n",
    "start = (0,0,6,5)\n",
    "path_3 = env_3.simulate(start, policy_3, method)"
   ]
  },
  {
   "cell_type": "code",
   "execution_count": 12,
   "metadata": {},
   "outputs": [
    {
     "data": {
      "image/png": "[encoded data removed]",
      "text/plain": [
       "<Figure size 576x504 with 1 Axes>"
      ]
     },
     "metadata": {},
     "output_type": "display_data"
    }
   ],
   "source": [
    "mz.animate_solution(maze, path_3)"
   ]
  },
  {
   "cell_type": "markdown",
   "metadata": {},
   "source": [
    "## Problem 1e\n",
    "\n",
    "To calculate the probability of exiting the maze while poisoned, it is easier to consider the case when the minotaur is not allowed to stand still, as we have previously seen that the agent is guaranteed to exit the maze in 15 timesteps for this case (unless they die of poisoning). The probability of this is simply the probability of not dying within 15 timesteps, and this can be calculated using the CDF of the geometric distribution:\n",
    "\n",
    "$$CDF_{geometric}(k) = 1 - (1-p)^k\\;.$$\n",
    "\n",
    "The CDF gives us the probability of dying within the first k timesteps, so to calculate the probability of getting out alive we use\n",
    "\n",
    "$$1 - CDF_{geometric}(15) = (1-p)^{15} \\approx 0.6014\\;.$$\n",
    "\n",
    "If we estimate this probability by simulating $N = 10000$ attempts we get:"
   ]
  },
  {
   "cell_type": "code",
   "execution_count": 13,
   "metadata": {},
   "outputs": [
    {
     "name": "stdout",
     "output_type": "stream",
     "text": [
      "Estimated probability of successful escape:\n",
      "0.6078\n"
     ]
    }
   ],
   "source": [
    "env_4 = mz.Maze(maze, stand_still=False, life_mean=30)\n",
    "V,policy_4 = mz.value_iteration(env_4, 1/3, epsilon=0.0001)\n",
    "\n",
    "nr_escape = 0\n",
    "start = (0,0,6,5)\n",
    "method = 'ValIter'\n",
    "N = 10000\n",
    "for i in range(N):\n",
    "    path_4 = env_4.simulate(start, policy_4, method)\n",
    "    if path_4[-1] != \"Dead\":\n",
    "        if maze[path_4[-1][0:2]] == 2 and path_4[-1][0:2] != path_4[-1][2:]:\n",
    "            nr_escape+=1\n",
    "print(\"Estimated probability of successful escape:\")\n",
    "print(nr_escape/N)"
   ]
  },
  {
   "cell_type": "markdown",
   "metadata": {},
   "source": [
    "We see that this value is close to the theoretically calculated one. \n",
    "\n",
    "If the minotaur is allowed to stand still this calculation becomes more involved, and we will not perform the theoretical calculations. However, we do know that the probability of getting out alive is lower if the minotaur is allowed to stand still. This should be reflected in the estimated probability if we simulate this scenario $N=10000$ times:"
   ]
  },
  {
   "cell_type": "code",
   "execution_count": 10,
   "metadata": {},
   "outputs": [
    {
     "ename": "KeyboardInterrupt",
     "evalue": "",
     "output_type": "error",
     "traceback": [
      "\u001B[1;31m---------------------------------------------------------------------------\u001B[0m",
      "\u001B[1;31mKeyboardInterrupt\u001B[0m                         Traceback (most recent call last)",
      "\u001B[1;32m~\\AppData\\Local\\Temp/ipykernel_9524/3884806012.py\u001B[0m in \u001B[0;36m<module>\u001B[1;34m\u001B[0m\n\u001B[0;32m      1\u001B[0m \u001B[0menv\u001B[0m \u001B[1;33m=\u001B[0m \u001B[0mmz\u001B[0m\u001B[1;33m.\u001B[0m\u001B[0mMaze\u001B[0m\u001B[1;33m(\u001B[0m\u001B[0mmaze\u001B[0m\u001B[1;33m,\u001B[0m \u001B[0mstand_still\u001B[0m\u001B[1;33m=\u001B[0m\u001B[1;32mTrue\u001B[0m\u001B[1;33m,\u001B[0m \u001B[0mlife_mean\u001B[0m\u001B[1;33m=\u001B[0m\u001B[1;36m30\u001B[0m\u001B[1;33m)\u001B[0m\u001B[1;33m\u001B[0m\u001B[1;33m\u001B[0m\u001B[0m\n\u001B[1;32m----> 2\u001B[1;33m \u001B[0mV\u001B[0m\u001B[1;33m,\u001B[0m\u001B[0mpolicy\u001B[0m \u001B[1;33m=\u001B[0m \u001B[0mmz\u001B[0m\u001B[1;33m.\u001B[0m\u001B[0mvalue_iteration\u001B[0m\u001B[1;33m(\u001B[0m\u001B[0menv\u001B[0m\u001B[1;33m,\u001B[0m \u001B[1;33m(\u001B[0m\u001B[0menv\u001B[0m\u001B[1;33m.\u001B[0m\u001B[0mlife_mean\u001B[0m\u001B[1;33m-\u001B[0m\u001B[1;36m1\u001B[0m\u001B[1;33m)\u001B[0m\u001B[1;33m/\u001B[0m\u001B[0menv\u001B[0m\u001B[1;33m.\u001B[0m\u001B[0mlife_mean\u001B[0m\u001B[1;33m,\u001B[0m \u001B[0mepsilon\u001B[0m\u001B[1;33m=\u001B[0m\u001B[1;36m0.0001\u001B[0m\u001B[1;33m)\u001B[0m\u001B[1;33m\u001B[0m\u001B[1;33m\u001B[0m\u001B[0m\n\u001B[0m\u001B[0;32m      3\u001B[0m \u001B[1;33m\u001B[0m\u001B[0m\n\u001B[0;32m      4\u001B[0m \u001B[0mnr_escape\u001B[0m \u001B[1;33m=\u001B[0m \u001B[1;36m0\u001B[0m\u001B[1;33m\u001B[0m\u001B[1;33m\u001B[0m\u001B[0m\n\u001B[0;32m      5\u001B[0m \u001B[0mstart\u001B[0m \u001B[1;33m=\u001B[0m \u001B[1;33m(\u001B[0m\u001B[1;36m0\u001B[0m\u001B[1;33m,\u001B[0m\u001B[1;36m0\u001B[0m\u001B[1;33m,\u001B[0m\u001B[1;36m6\u001B[0m\u001B[1;33m,\u001B[0m\u001B[1;36m5\u001B[0m\u001B[1;33m)\u001B[0m\u001B[1;33m\u001B[0m\u001B[1;33m\u001B[0m\u001B[0m\n",
      "\u001B[1;32mD:\\EL2805\\lab1\\maze.py\u001B[0m in \u001B[0;36mvalue_iteration\u001B[1;34m(env, gamma, epsilon)\u001B[0m\n\u001B[0;32m    534\u001B[0m         \u001B[0mV\u001B[0m \u001B[1;33m=\u001B[0m \u001B[0mnp\u001B[0m\u001B[1;33m.\u001B[0m\u001B[0mcopy\u001B[0m\u001B[1;33m(\u001B[0m\u001B[0mBV\u001B[0m\u001B[1;33m)\u001B[0m\u001B[1;33m\u001B[0m\u001B[1;33m\u001B[0m\u001B[0m\n\u001B[0;32m    535\u001B[0m         \u001B[1;31m# Compute the new BV\u001B[0m\u001B[1;33m\u001B[0m\u001B[1;33m\u001B[0m\u001B[1;33m\u001B[0m\u001B[0m\n\u001B[1;32m--> 536\u001B[1;33m         \u001B[1;32mfor\u001B[0m \u001B[0ms\u001B[0m \u001B[1;32min\u001B[0m \u001B[0mrange\u001B[0m\u001B[1;33m(\u001B[0m\u001B[0mn_states\u001B[0m\u001B[1;33m)\u001B[0m\u001B[1;33m:\u001B[0m\u001B[1;33m\u001B[0m\u001B[1;33m\u001B[0m\u001B[0m\n\u001B[0m\u001B[0;32m    537\u001B[0m             \u001B[1;32mfor\u001B[0m \u001B[0ma\u001B[0m \u001B[1;32min\u001B[0m \u001B[0mrange\u001B[0m\u001B[1;33m(\u001B[0m\u001B[0mn_actions\u001B[0m\u001B[1;33m)\u001B[0m\u001B[1;33m:\u001B[0m\u001B[1;33m\u001B[0m\u001B[1;33m\u001B[0m\u001B[0m\n\u001B[0;32m    538\u001B[0m                 \u001B[0mQ\u001B[0m\u001B[1;33m[\u001B[0m\u001B[0ms\u001B[0m\u001B[1;33m,\u001B[0m \u001B[0ma\u001B[0m\u001B[1;33m]\u001B[0m \u001B[1;33m=\u001B[0m \u001B[0mr\u001B[0m\u001B[1;33m[\u001B[0m\u001B[0ms\u001B[0m\u001B[1;33m,\u001B[0m \u001B[0ma\u001B[0m\u001B[1;33m]\u001B[0m \u001B[1;33m+\u001B[0m \u001B[0mgamma\u001B[0m \u001B[1;33m*\u001B[0m \u001B[0mnp\u001B[0m\u001B[1;33m.\u001B[0m\u001B[0mdot\u001B[0m\u001B[1;33m(\u001B[0m\u001B[0mp\u001B[0m\u001B[1;33m[\u001B[0m\u001B[1;33m:\u001B[0m\u001B[1;33m,\u001B[0m \u001B[0ms\u001B[0m\u001B[1;33m,\u001B[0m \u001B[0ma\u001B[0m\u001B[1;33m]\u001B[0m\u001B[1;33m,\u001B[0m \u001B[0mV\u001B[0m\u001B[1;33m)\u001B[0m\u001B[1;33m\u001B[0m\u001B[1;33m\u001B[0m\u001B[0m\n",
      "\u001B[1;32m<__array_function__ internals>\u001B[0m in \u001B[0;36mdot\u001B[1;34m(*args, **kwargs)\u001B[0m\n",
      "\u001B[1;31mKeyboardInterrupt\u001B[0m: "
     ]
    }
   ],
   "source": [
    "env_5 = mz.Maze(maze, stand_still=True, life_mean=30)\n",
    "V,policy_5 = mz.value_iteration(env_5, 1/3, epsilon=0.0001)\n",
    "\n",
    "nr_escape = 0\n",
    "start = (0,0,6,5)\n",
    "method = 'ValIter'\n",
    "N = 10000\n",
    "for i in range(N):\n",
    "    path_5 = env_5.simulate(start, policy_5, method)\n",
    "    if path_5[-1] != \"Dead\":\n",
    "        if maze[path_5[-1][0:2]] == 2 and path_5[-1][0:2] != path_5[-1][2:]:\n",
    "            nr_escape+=1\n",
    "print(\"Estimated probability of successful escape:\")\n",
    "print(nr_escape/N)"
   ]
  },
  {
   "cell_type": "markdown",
   "metadata": {},
   "source": [
    "## Problem 1f\n",
    "#### Theoretical questions\n",
    "\n",
    "1) What does it mean that a learning method is on or off-policy?\n",
    "\n",
    "  - An off-policy method learns a $Q(s,a)$ function using a behavior policy $\\pi_b$, and then uses a greedy policy with respect to the learned $Q(s,a)$. The resulting policy is as a rule different from the behavior policy used. An off-policy works under the condition that the behavior policy explores all state-action pairs.\n",
    "  - An on-policy algorithm learns the value of a policy which is the same policy used to generate data. At each timestep and state, the algorithm acts according to the best policy it has access to at that time.\n",
    "\n",
    "2) State convergence requirements for Q-learning and SARSA:\n",
    "\n",
    "  - For Q-learning the requirements are that the behavior policy $\\pi_b$ visits every state-action pair $(s,a)$ infinitely often and that the learning rate $\\alpha$ fulfills the following conditions:\n",
    "    $$\\sum_t\\alpha = \\infty$$$$\\sum_t\\alpha^2 < \\infty$$\n",
    "  - Requirements on the learning rate are the same for the SARSA algorithm as for the Q-learning algorithm. If the policy $\\pi_t$ is $\\epsilon$-greedy wrt $Q^{(t)}$, we have the convergence\n",
    "  $$\\lim_{n\\to\\infty}Q^{(t)} = Q^{\\bar{\\pi}}$$\n",
    "    where $Q^{\\bar{\\pi}}$ is the best policy among all of the possible $\\epsilon$-greedy policies."
   ]
  },
  {
   "cell_type": "markdown",
   "metadata": {
    "pycharm": {
     "name": "#%% md\n"
    }
   },
   "source": [
    "## Problem 1g\n",
    "\n",
    "The modifications that are needed to the problem are as follows:\n",
    "  - The player's life is geometrically distributed with mean 50 instead of mean 30\n",
    "  - The minotaur's policy for moving has changed. It now moves randomly or deterministically \"towards\" the player with probability 65% and 35% respectively\n",
    "  - There are keys located in position C, meaning that the player needs to reach this position before they are able to exit the maze\n",
    "\n",
    "#### New mean of life distribution\n",
    "\n",
    "The first modification is trivial, and will not require alterations to the code other than the life_mean parameter given to the environment and the gamma parameter of the value iteration algorithm.\n",
    "\n",
    "#### New minotaur policy\n",
    "\n",
    "The minotaur's new policy will require alterations to the transition probabilities, however. Consider the following scenario:\n",
    "\n",
    "The player has chosen action $a$, and the minotaur is in a location where it is not restricted in which action it is able to make. It has the choice of moving in either direction. Out of these four actions, if the player and the Minotaur are not in the same row or column, two of them will result in decreasing the distance (euclidian or manhattan distance) between the minotaur and the player (otherwise there will only be one). We call these two actions $a_1$ and $a_2$. Given that the minotaur decides to move towards the player, the probability of $a_1$ or $a_2$ is $0.5$ each. Not that all the following probabilities are under the condition that at the next step the player will still be alive. We write:\n",
    "\n",
    "$$\\mathbb{P}(a_1\\mid towards)=\\mathbb{P}(a_2\\mid towards)=0.5$$\n",
    "$$\\mathbb{P}(a_i\\mid towards)=0, \\; \\forall \\; i \\in \\left\\{3,4\\right\\}$$\n",
    "\n",
    "If the minotaur moves at random we have a uniform probability of choosing any action:\n",
    "\n",
    "$$\\mathbb{P}(a_i \\mid random) = \\tfrac{1}{4}, \\; \\forall \\; i \\in \\left\\{1,2,3,4\\right\\}$$\n",
    "\n",
    "Now, to get the total probability of the minotaur choosing any action $a_i$, we marginalize:\n",
    "\n",
    "$$\\mathbb{P}(a_i) = \\mathbb{P}(a_i \\mid towards)\\mathbb{P}(towards) + \\mathbb{P}(a_i \\mid random)\\mathbb{P}(random)\\;.$$\n",
    "\n",
    "For actions $a_1$ and $a_2$ this becomes:\n",
    "\n",
    "$$\\mathbb{P}(a_1) = 0.5 \\cdot 0.35 + 0.25 \\cdot 0.65 = 0.3375 = \\mathbb{P}(a_2) \\;.$$\n",
    "\n",
    "If there is only one action $a_1$ to move towards the player, the probability will be\n",
    "\n",
    "$$\\mathbb{P}(a_1) = 1 \\cdot 0.35 + 0.25 \\cdot 0.65 = 0.5125 \\;.$$\n",
    "\n",
    "For other actions ($a_3$ for example), the probability will be\n",
    "\n",
    "$$\\mathbb{P}(a_3) = 0.25 \\cdot 0.65 = 0.1625 \\;.$$\n",
    "\n",
    "In this way, with consideration to the possible actions of the minotaur, the knew state transition probabilities can be found for an arbitrary distribution between the cases of moving randomly or towards the player.\n",
    "\n",
    "#### Introduction of keys\n",
    "\n",
    "The introduction of keys in position C could be solved by adding an extra dimension to the state space, indicating whether the keys have been found or not. The rewards will remain mostly the same, taking a legal step will be associated with a reward of -1 and walking into a wall, being eaten or dying of poison will be rewarded with -100. If the keys have not yet been found (the player has not yet been in position C), the reward for reaching the end position B will also be associated with a reward of -1, however. As soon as the player reaches position C and finds the keys the exit position B will again be associated with a zero reward. In this way, the player should learn to first visit C and then proceed to B."
   ]
  },
  {
   "cell_type": "markdown",
   "metadata": {},
   "source": [
    "## Problem 1h"
   ]
  },
  {
   "cell_type": "code",
   "execution_count": 2,
   "metadata": {
    "pycharm": {
     "name": "#%%\n"
    }
   },
   "outputs": [],
   "source": [
    "# Modified maze from lab0. Now corresponding to maze in lab1\n",
    "\n",
    "maze_2 = np.array([\n",
    "    [0, 0, 1, 0, 0, 0, 0, 3],\n",
    "    [0, 0, 1, 0, 0, 1, 0, 0],\n",
    "    [0, 0, 1, 0, 0, 1, 1, 1],\n",
    "    [0, 0, 1, 0, 0, 1, 0, 0],\n",
    "    [0, 0, 0, 0, 0, 0, 0, 0],\n",
    "    [0, 1, 1, 1, 1, 1, 1, 0],\n",
    "    [0, 0, 0, 0, 1, 2, 0, 0]\n",
    "])"
   ]
  },
  {
   "cell_type": "code",
   "execution_count": 3,
   "metadata": {
    "pycharm": {
     "name": "#%%\n"
    },
    "scrolled": true
   },
   "outputs": [
    {
     "data": {
      "image/png": "[encoded data removed]",
      "text/plain": [
       "<Figure size 576x504 with 1 Axes>"
      ]
     },
     "metadata": {},
     "output_type": "display_data"
    }
   ],
   "source": [
    "import maze_keys as mz_k\n",
    "mz_k.draw_maze(maze_2)"
   ]
  },
  {
   "cell_type": "code",
   "execution_count": 4,
   "metadata": {
    "scrolled": true
   },
   "outputs": [],
   "source": [
    "env_6 = mz_k.Maze(maze_2, life_mean=50, prob_random=0.65)"
   ]
  },
  {
   "cell_type": "code",
   "execution_count": 5,
   "metadata": {},
   "outputs": [],
   "source": [
    "V,policy_6 = mz_k.value_iteration(env_6, 0.9, epsilon=0.01)"
   ]
  },
  {
   "cell_type": "code",
   "execution_count": 6,
   "metadata": {
    "scrolled": true
   },
   "outputs": [
    {
     "name": "stdout",
     "output_type": "stream",
     "text": [
      "[0 0 2 ... 0 0 0]\n"
     ]
    }
   ],
   "source": [
    "print(policy_6)"
   ]
  },
  {
   "cell_type": "code",
   "execution_count": 7,
   "metadata": {},
   "outputs": [],
   "source": [
    "method = 'ValIter'\n",
    "start_6 = (0,0,6,5,0)\n",
    "path_6 = env_6.simulate(start_6, policy_6, method)"
   ]
  },
  {
   "cell_type": "code",
   "execution_count": 9,
   "metadata": {
    "scrolled": false
   },
   "outputs": [
    {
     "data": {
      "image/png": "[encoded data removed]",
      "text/plain": [
       "<Figure size 576x504 with 1 Axes>"
      ]
     },
     "metadata": {},
     "output_type": "display_data"
    }
   ],
   "source": [
    "mz_k.animate_solution(maze_2, path_6)"
   ]
  },
  {
   "cell_type": "markdown",
   "source": [
    "#### Verification of environment\n",
    "\n",
    "Using the theoretical calculations presented previously for the case when the minotaur is not allowed to stand still, an exact probability of exiting the maze can be obtained. The minimum amount of steps taken to exit the maze is $29$ with the addition of the keys, and using the $CDF$ with $p = \\tfrac{1}{50}$ we can calculate the probability of escaping as:\n",
    "\n",
    "$$\\mathbb{P}(escape) = (1-p)^{29} \\approx 0.5567 \\;.$$\n",
    "\n",
    "Below is an estimation of this value using $N=10000$ simulations:"
   ],
   "metadata": {
    "collapsed": false
   }
  },
  {
   "cell_type": "code",
   "execution_count": null,
   "outputs": [],
   "source": [
    "nr_escape = 0\n",
    "method = 'ValIter'\n",
    "N = 10000\n",
    "for i in range(N):\n",
    "    path_7 = env_6.simulate(start_6, policy_6, method)\n",
    "    if path_7[-1] != \"Dead\":\n",
    "        if maze[path_7[-1][0:2]] == 2 and path_7[-1][0:2] != path_7[-1][2:] and path_7[-1][-1]==1:\n",
    "            nr_escape+=1\n",
    "print(\"Estimated probability of successful escape:\")\n",
    "print(nr_escape/N)\n"
   ],
   "metadata": {
    "collapsed": false,
    "pycharm": {
     "name": "#%%\n"
    }
   }
  },
  {
   "cell_type": "markdown",
   "source": [
    "#### Analysis\n",
    "We see, again, that the estimated value is close to the theoretically calculated one, and conclude that the environment seems to function as it should"
   ],
   "metadata": {
    "collapsed": false
   }
  },
  {
   "cell_type": "code",
   "execution_count": 3,
   "metadata": {},
   "outputs": [
    {
     "data": {
      "image/png": "[encoded data removed]",
      "text/plain": [
       "<Figure size 576x504 with 1 Axes>"
      ]
     },
     "metadata": {},
     "output_type": "display_data"
    }
   ],
   "source": []
  }
 ],
 "metadata": {
  "kernelspec": {
   "display_name": "Python 3",
   "language": "python",
   "name": "python3"
  },
  "language_info": {
   "codemirror_mode": {
    "name": "ipython",
    "version": 3
   },
   "file_extension": ".py",
   "mimetype": "text/x-python",
   "name": "python",
   "nbconvert_exporter": "python",
   "pygments_lexer": "ipython3",
   "version": "3.6.8"
  }
 },
 "nbformat": 4,
 "nbformat_minor": 4
}